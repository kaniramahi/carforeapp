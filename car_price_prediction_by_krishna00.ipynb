{
 "cells": [
  {
   "cell_type": "code",
   "execution_count": 83,
   "id": "b49c6e09",
   "metadata": {
    "id": "b49c6e09"
   },
   "outputs": [],
   "source": [
    "import numpy as np # mathemtaical computation\n",
    "# numpy is aliased as np\n",
    "import pandas as pd # data preprocessing\n",
    "# pandas is aliased as pd\n",
    "import matplotlib.pyplot as plt # visualization\n",
    "# pyplot is aliased as plt\n",
    "import seaborn as sns  # visualization\n",
    "# seaborn is aliased as sns\n",
    "import sklearn"
   ]
  },
  {
   "cell_type": "code",
   "execution_count": 84,
   "id": "48fd974a",
   "metadata": {},
   "outputs": [],
   "source": [
    "import os\n",
    "import warnings"
   ]
  },
  {
   "cell_type": "code",
   "execution_count": 85,
   "id": "d9f96598",
   "metadata": {
    "colab": {
     "base_uri": "https://localhost:8080/",
     "height": 206
    },
    "id": "d9f96598",
    "outputId": "d8c4ac17-014f-490f-bde0-5144a022306a"
   },
   "outputs": [
    {
     "data": {
      "text/html": [
       "<div>\n",
       "<style scoped>\n",
       "    .dataframe tbody tr th:only-of-type {\n",
       "        vertical-align: middle;\n",
       "    }\n",
       "\n",
       "    .dataframe tbody tr th {\n",
       "        vertical-align: top;\n",
       "    }\n",
       "\n",
       "    .dataframe thead th {\n",
       "        text-align: right;\n",
       "    }\n",
       "</style>\n",
       "<table border=\"1\" class=\"dataframe\">\n",
       "  <thead>\n",
       "    <tr style=\"text-align: right;\">\n",
       "      <th></th>\n",
       "      <th>name</th>\n",
       "      <th>Brand_name</th>\n",
       "      <th>year</th>\n",
       "      <th>selling_price</th>\n",
       "      <th>km_driven</th>\n",
       "      <th>fuel</th>\n",
       "      <th>seller_type</th>\n",
       "      <th>transmission</th>\n",
       "      <th>owner</th>\n",
       "    </tr>\n",
       "  </thead>\n",
       "  <tbody>\n",
       "    <tr>\n",
       "      <th>0</th>\n",
       "      <td>Maruti 800 AC</td>\n",
       "      <td>Maruti</td>\n",
       "      <td>2007</td>\n",
       "      <td>60000</td>\n",
       "      <td>70000</td>\n",
       "      <td>Petrol</td>\n",
       "      <td>Individual</td>\n",
       "      <td>Manual</td>\n",
       "      <td>First Owner</td>\n",
       "    </tr>\n",
       "    <tr>\n",
       "      <th>1</th>\n",
       "      <td>Maruti Wagon R LXI Minor</td>\n",
       "      <td>Maruti</td>\n",
       "      <td>2007</td>\n",
       "      <td>135000</td>\n",
       "      <td>50000</td>\n",
       "      <td>Petrol</td>\n",
       "      <td>Individual</td>\n",
       "      <td>Manual</td>\n",
       "      <td>First Owner</td>\n",
       "    </tr>\n",
       "    <tr>\n",
       "      <th>2</th>\n",
       "      <td>Hyundai Verna 1.6 SX</td>\n",
       "      <td>Hyundai</td>\n",
       "      <td>2012</td>\n",
       "      <td>600000</td>\n",
       "      <td>100000</td>\n",
       "      <td>Diesel</td>\n",
       "      <td>Individual</td>\n",
       "      <td>Manual</td>\n",
       "      <td>First Owner</td>\n",
       "    </tr>\n",
       "    <tr>\n",
       "      <th>3</th>\n",
       "      <td>Datsun RediGO T Option</td>\n",
       "      <td>Datsun</td>\n",
       "      <td>2017</td>\n",
       "      <td>250000</td>\n",
       "      <td>46000</td>\n",
       "      <td>Petrol</td>\n",
       "      <td>Individual</td>\n",
       "      <td>Manual</td>\n",
       "      <td>First Owner</td>\n",
       "    </tr>\n",
       "    <tr>\n",
       "      <th>4</th>\n",
       "      <td>Honda Amaze VX i-DTEC</td>\n",
       "      <td>Maruti</td>\n",
       "      <td>2007</td>\n",
       "      <td>140000</td>\n",
       "      <td>125000</td>\n",
       "      <td>Petrol</td>\n",
       "      <td>Individual</td>\n",
       "      <td>Manual</td>\n",
       "      <td>First Owner</td>\n",
       "    </tr>\n",
       "  </tbody>\n",
       "</table>\n",
       "</div>"
      ],
      "text/plain": [
       "                       name Brand_name  year  selling_price  km_driven  \\\n",
       "0             Maruti 800 AC     Maruti  2007          60000      70000   \n",
       "1  Maruti Wagon R LXI Minor     Maruti  2007         135000      50000   \n",
       "2      Hyundai Verna 1.6 SX    Hyundai  2012         600000     100000   \n",
       "3    Datsun RediGO T Option     Datsun  2017         250000      46000   \n",
       "4     Honda Amaze VX i-DTEC     Maruti  2007         140000     125000   \n",
       "\n",
       "     fuel seller_type transmission        owner  \n",
       "0  Petrol  Individual       Manual  First Owner  \n",
       "1  Petrol  Individual       Manual  First Owner  \n",
       "2  Diesel  Individual       Manual  First Owner  \n",
       "3  Petrol  Individual       Manual  First Owner  \n",
       "4  Petrol  Individual       Manual  First Owner  "
      ]
     },
     "execution_count": 85,
     "metadata": {},
     "output_type": "execute_result"
    }
   ],
   "source": [
    "df=pd.read_csv('CAR_DETAILS.csv')\n",
    "df.head()"
   ]
  },
  {
   "cell_type": "code",
   "execution_count": 15,
   "id": "fbf735fd",
   "metadata": {
    "colab": {
     "base_uri": "https://localhost:8080/"
    },
    "id": "fbf735fd",
    "outputId": "24ed8542-c27c-42fe-b085-1e89763d8eaa"
   },
   "outputs": [
    {
     "name": "stdout",
     "output_type": "stream",
     "text": [
      "<class 'pandas.core.frame.DataFrame'>\n",
      "RangeIndex: 4340 entries, 0 to 4339\n",
      "Data columns (total 9 columns):\n",
      " #   Column         Non-Null Count  Dtype \n",
      "---  ------         --------------  ----- \n",
      " 0   name           4340 non-null   object\n",
      " 1   Brand_name     4340 non-null   object\n",
      " 2   year           4340 non-null   int64 \n",
      " 3   selling_price  4340 non-null   int64 \n",
      " 4   km_driven      4340 non-null   int64 \n",
      " 5   fuel           4340 non-null   object\n",
      " 6   seller_type    4340 non-null   object\n",
      " 7   transmission   4340 non-null   object\n",
      " 8   owner          4340 non-null   object\n",
      "dtypes: int64(3), object(6)\n",
      "memory usage: 305.3+ KB\n"
     ]
    }
   ],
   "source": [
    "df.info()\n",
    "#view the info of the dataset"
   ]
  },
  {
   "cell_type": "code",
   "execution_count": 16,
   "id": "8ea33f10",
   "metadata": {
    "colab": {
     "base_uri": "https://localhost:8080/"
    },
    "id": "8ea33f10",
    "outputId": "9dfc5c63-b9f2-4ac7-c87b-34a53b0f40c4"
   },
   "outputs": [
    {
     "data": {
      "text/plain": [
       "(4340, 9)"
      ]
     },
     "execution_count": 16,
     "metadata": {},
     "output_type": "execute_result"
    }
   ],
   "source": [
    "df.shape#view the shape of the dataset"
   ]
  },
  {
   "cell_type": "code",
   "execution_count": 17,
   "id": "79f2ccb5",
   "metadata": {
    "colab": {
     "base_uri": "https://localhost:8080/"
    },
    "id": "79f2ccb5",
    "outputId": "fadbe109-97f7-422e-befc-85ae99ba14fe"
   },
   "outputs": [
    {
     "data": {
      "text/plain": [
       "Index(['name', 'Brand_name', 'year', 'selling_price', 'km_driven', 'fuel',\n",
       "       'seller_type', 'transmission', 'owner'],\n",
       "      dtype='object')"
      ]
     },
     "execution_count": 17,
     "metadata": {},
     "output_type": "execute_result"
    }
   ],
   "source": [
    "df.columns #check columns"
   ]
  },
  {
   "cell_type": "code",
   "execution_count": 18,
   "id": "9d92586c",
   "metadata": {},
   "outputs": [
    {
     "data": {
      "text/plain": [
       "Maruti           1280\n",
       "Hyundai           821\n",
       "Mahindra          365\n",
       "Tata              361\n",
       "Honda             252\n",
       "Ford              238\n",
       "Toyota            206\n",
       "Chevrolet         188\n",
       "Renault           146\n",
       "Volkswagen        107\n",
       "Skoda              68\n",
       "Nissan             64\n",
       "Audi               60\n",
       "BMW                39\n",
       "Fiat               37\n",
       "Datsun             37\n",
       "Mercedes-Benz      35\n",
       "Jaguar              6\n",
       "Mitsubishi          6\n",
       "Land                5\n",
       "Volvo               4\n",
       "Ambassador          4\n",
       "Jeep                3\n",
       "MG                  2\n",
       "OpelCorsa           2\n",
       "Daewoo              1\n",
       "Force               1\n",
       "Isuzu               1\n",
       "Kia                 1\n",
       "Name: model, dtype: int64"
      ]
     },
     "execution_count": 18,
     "metadata": {},
     "output_type": "execute_result"
    }
   ],
   "source": [
    "# Split the column name to get the model of the car\n",
    "df[\"model\"] = df.name.apply(lambda x : ' '.join(x.split(' ')[:1]))\n",
    "df['model'].value_counts()"
   ]
  },
  {
   "cell_type": "markdown",
   "id": "7110f5f0",
   "metadata": {},
   "source": [
    "# Checking And Handling the null value and duplicates"
   ]
  },
  {
   "cell_type": "code",
   "execution_count": 19,
   "id": "1926f08b",
   "metadata": {
    "colab": {
     "base_uri": "https://localhost:8080/"
    },
    "id": "1926f08b",
    "outputId": "6eee4d4c-61b4-408b-dc06-76ab4b9dd4bc"
   },
   "outputs": [
    {
     "data": {
      "text/plain": [
       "name             0\n",
       "Brand_name       0\n",
       "year             0\n",
       "selling_price    0\n",
       "km_driven        0\n",
       "fuel             0\n",
       "seller_type      0\n",
       "transmission     0\n",
       "owner            0\n",
       "model            0\n",
       "dtype: int64"
      ]
     },
     "execution_count": 19,
     "metadata": {},
     "output_type": "execute_result"
    }
   ],
   "source": [
    "df.isnull().sum()#ckeck the null value "
   ]
  },
  {
   "cell_type": "code",
   "execution_count": 20,
   "id": "be31a5c6",
   "metadata": {
    "colab": {
     "base_uri": "https://localhost:8080/"
    },
    "id": "be31a5c6",
    "outputId": "cfd8b193-f024-4e01-ec3c-b7b5c1dccb1e"
   },
   "outputs": [
    {
     "data": {
      "text/plain": [
       "746"
      ]
     },
     "execution_count": 20,
     "metadata": {},
     "output_type": "execute_result"
    }
   ],
   "source": [
    "df.duplicated().sum()#check the duplicate  746"
   ]
  },
  {
   "cell_type": "code",
   "execution_count": 21,
   "id": "2c5290e4",
   "metadata": {
    "id": "2c5290e4"
   },
   "outputs": [],
   "source": [
    "df.drop_duplicates(inplace=True) #drop  all duplicate"
   ]
  },
  {
   "cell_type": "code",
   "execution_count": 69,
   "id": "764daa40",
   "metadata": {},
   "outputs": [
    {
     "name": "stdout",
     "output_type": "stream",
     "text": [
      "['Maruti 800 AC' 'Maruti Wagon R LXI Minor' 'Hyundai Verna 1.6 SX' ...\n",
      " 'Mahindra Verito 1.5 D6 BSIII'\n",
      " 'Toyota Innova 2.5 VX (Diesel) 8 Seater BS IV'\n",
      " 'Hyundai i20 Magna 1.4 CRDi']\n",
      "['Maruti' 'Hyundai' 'Datsun' 'Chevrolet' 'Toyota' 'Honda' 'Tata' 'Jaguar'\n",
      " 'Mercedes-Benz' 'Audi' 'Skoda' 'Jeep' 'BMW' 'Mahindra' 'Ford' 'Nissan'\n",
      " 'Renault' 'Fiat' 'Volkswagen' 'Volvo' 'Mitsubishi' 'Land' 'Daewoo' 'MG'\n",
      " 'Force' 'Isuzu' 'OpelCorsa' 'Ambassador' 'Kia']\n",
      "['Petrol' 'Diesel' 'CNG' 'LPG' 'Electric']\n",
      "['Individual' 'Dealer' 'Trustmark Dealer']\n",
      "['Manual' 'Automatic']\n",
      "['First Owner' 'Second Owner' 'Fourth & Above Owner' 'Third Owner'\n",
      " 'Test Drive Car']\n",
      "['Maruti' 'Hyundai' 'Datsun' 'Honda' 'Tata' 'Chevrolet' 'Toyota' 'Jaguar'\n",
      " 'Mercedes-Benz' 'Audi' 'Skoda' 'Jeep' 'BMW' 'Mahindra' 'Ford' 'Nissan'\n",
      " 'Renault' 'Fiat' 'Volkswagen' 'Volvo' 'Mitsubishi' 'Land' 'Daewoo' 'MG'\n",
      " 'Force' 'Isuzu' 'OpelCorsa' 'Ambassador' 'Kia']\n"
     ]
    }
   ],
   "source": [
    "# View unique values from categorical features\n",
    "categorical = [col for col in df.columns if df[col].dtypes == 'O']\n",
    "\n",
    "for col in categorical:\n",
    "  print(df[col].unique())"
   ]
  },
  {
   "cell_type": "code",
   "execution_count": 70,
   "id": "fca75c23",
   "metadata": {},
   "outputs": [
    {
     "data": {
      "text/html": [
       "<div>\n",
       "<style scoped>\n",
       "    .dataframe tbody tr th:only-of-type {\n",
       "        vertical-align: middle;\n",
       "    }\n",
       "\n",
       "    .dataframe tbody tr th {\n",
       "        vertical-align: top;\n",
       "    }\n",
       "\n",
       "    .dataframe thead th {\n",
       "        text-align: right;\n",
       "    }\n",
       "</style>\n",
       "<table border=\"1\" class=\"dataframe\">\n",
       "  <thead>\n",
       "    <tr style=\"text-align: right;\">\n",
       "      <th></th>\n",
       "      <th>year</th>\n",
       "      <th>selling_price</th>\n",
       "      <th>km_driven</th>\n",
       "    </tr>\n",
       "  </thead>\n",
       "  <tbody>\n",
       "    <tr>\n",
       "      <th>count</th>\n",
       "      <td>3594.000000</td>\n",
       "      <td>3.594000e+03</td>\n",
       "      <td>3594.000000</td>\n",
       "    </tr>\n",
       "    <tr>\n",
       "      <th>mean</th>\n",
       "      <td>2012.966333</td>\n",
       "      <td>4.737619e+05</td>\n",
       "      <td>69222.927657</td>\n",
       "    </tr>\n",
       "    <tr>\n",
       "      <th>std</th>\n",
       "      <td>4.248636</td>\n",
       "      <td>5.087554e+05</td>\n",
       "      <td>47530.408343</td>\n",
       "    </tr>\n",
       "    <tr>\n",
       "      <th>min</th>\n",
       "      <td>1992.000000</td>\n",
       "      <td>2.000000e+04</td>\n",
       "      <td>1.000000</td>\n",
       "    </tr>\n",
       "    <tr>\n",
       "      <th>25%</th>\n",
       "      <td>2010.000000</td>\n",
       "      <td>2.000000e+05</td>\n",
       "      <td>36000.000000</td>\n",
       "    </tr>\n",
       "    <tr>\n",
       "      <th>50%</th>\n",
       "      <td>2013.500000</td>\n",
       "      <td>3.500000e+05</td>\n",
       "      <td>60000.000000</td>\n",
       "    </tr>\n",
       "    <tr>\n",
       "      <th>75%</th>\n",
       "      <td>2016.000000</td>\n",
       "      <td>6.000000e+05</td>\n",
       "      <td>90000.000000</td>\n",
       "    </tr>\n",
       "    <tr>\n",
       "      <th>max</th>\n",
       "      <td>2020.000000</td>\n",
       "      <td>8.900000e+06</td>\n",
       "      <td>806599.000000</td>\n",
       "    </tr>\n",
       "  </tbody>\n",
       "</table>\n",
       "</div>"
      ],
      "text/plain": [
       "              year  selling_price      km_driven\n",
       "count  3594.000000   3.594000e+03    3594.000000\n",
       "mean   2012.966333   4.737619e+05   69222.927657\n",
       "std       4.248636   5.087554e+05   47530.408343\n",
       "min    1992.000000   2.000000e+04       1.000000\n",
       "25%    2010.000000   2.000000e+05   36000.000000\n",
       "50%    2013.500000   3.500000e+05   60000.000000\n",
       "75%    2016.000000   6.000000e+05   90000.000000\n",
       "max    2020.000000   8.900000e+06  806599.000000"
      ]
     },
     "execution_count": 70,
     "metadata": {},
     "output_type": "execute_result"
    }
   ],
   "source": [
    "# Summary of the data set\n",
    "df.describe()"
   ]
  },
  {
   "cell_type": "code",
   "execution_count": 22,
   "id": "53d0928d",
   "metadata": {
    "colab": {
     "base_uri": "https://localhost:8080/"
    },
    "id": "53d0928d",
    "outputId": "8adeefeb-1080-49cb-f6a4-bb7f60abb023"
   },
   "outputs": [
    {
     "data": {
      "text/plain": [
       "name             object\n",
       "Brand_name       object\n",
       "year              int64\n",
       "selling_price     int64\n",
       "km_driven         int64\n",
       "fuel             object\n",
       "seller_type      object\n",
       "transmission     object\n",
       "owner            object\n",
       "model            object\n",
       "dtype: object"
      ]
     },
     "execution_count": 22,
     "metadata": {},
     "output_type": "execute_result"
    }
   ],
   "source": [
    "df.dtypes #check the datatypes"
   ]
  },
  {
   "cell_type": "code",
   "execution_count": 23,
   "id": "62b27ce6",
   "metadata": {
    "colab": {
     "base_uri": "https://localhost:8080/"
    },
    "id": "62b27ce6",
    "outputId": "463c2329-f9d8-4966-dc5f-ae9091edca73"
   },
   "outputs": [
    {
     "data": {
      "text/plain": [
       "0"
      ]
     },
     "execution_count": 23,
     "metadata": {},
     "output_type": "execute_result"
    }
   ],
   "source": [
    "df.duplicated().sum()#recheck the duplicate not present  ( 00)"
   ]
  },
  {
   "cell_type": "markdown",
   "id": "9fb34796",
   "metadata": {},
   "source": [
    "# Exploratory Data Analysis"
   ]
  },
  {
   "cell_type": "code",
   "execution_count": 27,
   "id": "2b9d0fd5",
   "metadata": {
    "colab": {
     "base_uri": "https://localhost:8080/",
     "height": 472
    },
    "id": "2b9d0fd5",
    "outputId": "f72ca669-036f-4c9a-f625-8d23d5372911"
   },
   "outputs": [
    {
     "data": {
      "image/png": "[encoded data removed]",
      "text/plain": [
       "<Figure size 432x288 with 1 Axes>"
      ]
     },
     "metadata": {
      "needs_background": "light"
     },
     "output_type": "display_data"
    }
   ],
   "source": [
    "sns.countplot(y=df['Brand_name'],\n",
    "              order=df['Brand_name'].value_counts().sort_values(ascending=False)[:7].index)\n",
    "plt.title('Top 7 Car brands')\n",
    "plt.show()"
   ]
  },
  {
   "cell_type": "code",
   "execution_count": 28,
   "id": "3df2be74",
   "metadata": {
    "colab": {
     "base_uri": "https://localhost:8080/",
     "height": 472
    },
    "id": "3df2be74",
    "outputId": "d4c67a90-369b-45ca-d819-ff59d44241ce"
   },
   "outputs": [
    {
     "data": {
      "image/png": "[encoded data removed]",
      "text/plain": [
       "<Figure size 432x288 with 1 Axes>"
      ]
     },
     "metadata": {
      "needs_background": "light"
     },
     "output_type": "display_data"
    }
   ],
   "source": [
    "sns.countplot(y=df['name'],\n",
    "              order=df['name'].value_counts().sort_values(ascending=False)[:6].index)\n",
    "plt.title('Top 6 ar brands')\n",
    "plt.show()"
   ]
  },
  {
   "cell_type": "code",
   "execution_count": 29,
   "id": "5d1dcea3",
   "metadata": {
    "colab": {
     "base_uri": "https://localhost:8080/",
     "height": 472
    },
    "id": "5d1dcea3",
    "outputId": "a8d43956-3c40-4e76-86d9-30ed02330aaa"
   },
   "outputs": [
    {
     "data": {
      "image/png": "[encoded data removed]",
      "text/plain": [
       "<Figure size 432x288 with 1 Axes>"
      ]
     },
     "metadata": {
      "needs_background": "light"
     },
     "output_type": "display_data"
    }
   ],
   "source": [
    "sns.countplot(y=df['fuel'],\n",
    "              order=df['fuel'].value_counts().sort_values(ascending=False).index)\n",
    "plt.title('top 4 fuels  used in car')\n",
    "plt.show()"
   ]
  },
  {
   "cell_type": "code",
   "execution_count": 30,
   "id": "6375680a",
   "metadata": {
    "colab": {
     "base_uri": "https://localhost:8080/"
    },
    "id": "6375680a",
    "outputId": "fe4b96c8-b070-40ff-eb04-ef3fec802777"
   },
   "outputs": [
    {
     "data": {
      "text/plain": [
       "Index(['name', 'Brand_name', 'year', 'selling_price', 'km_driven', 'fuel',\n",
       "       'seller_type', 'transmission', 'owner', 'model'],\n",
       "      dtype='object')"
      ]
     },
     "execution_count": 30,
     "metadata": {},
     "output_type": "execute_result"
    }
   ],
   "source": [
    "df.columns"
   ]
  },
  {
   "cell_type": "markdown",
   "id": "89985a58",
   "metadata": {},
   "source": [
    "# Model Distribution"
   ]
  },
  {
   "cell_type": "code",
   "execution_count": 31,
   "id": "03be7e52",
   "metadata": {
    "id": "03be7e52"
   },
   "outputs": [],
   "source": [
    "car = df.copy()"
   ]
  },
  {
   "cell_type": "code",
   "execution_count": 71,
   "id": "19991425",
   "metadata": {},
   "outputs": [
    {
     "data": {
      "text/plain": [
       "Index(['Maruti', 'Hyundai', 'Mahindra', 'Tata', 'Ford', 'Honda', 'Toyota',\n",
       "       'Chevrolet', 'Renault', 'Volkswagen', 'Nissan', 'Skoda', 'Fiat', 'Audi',\n",
       "       'Datsun', 'BMW', 'Mercedes-Benz', 'Jaguar', 'Mitsubishi', 'Land',\n",
       "       'Volvo', 'Jeep', 'Ambassador', 'MG', 'OpelCorsa', 'Daewoo', 'Force',\n",
       "       'Isuzu', 'Kia'],\n",
       "      dtype='object')"
      ]
     },
     "execution_count": 71,
     "metadata": {},
     "output_type": "execute_result"
    }
   ],
   "source": [
    "car[\"model\"].value_counts().index"
   ]
  },
  {
   "cell_type": "code",
   "execution_count": 45,
   "id": "f17417b7",
   "metadata": {
    "colab": {
     "base_uri": "https://localhost:8080/",
     "height": 723
    },
    "id": "f17417b7",
    "outputId": "44aa88ab-951e-49b4-e736-e2c06426c545"
   },
   "outputs": [
    {
     "data": {
      "image/png": "[encoded data removed]",
      "text/plain": [
       "<Figure size 864x576 with 1 Axes>"
      ]
     },
     "metadata": {
      "needs_background": "light"
     },
     "output_type": "display_data"
    }
   ],
   "source": [
    "# Plot of Car Models Distribution\n",
    "figure=plt.figure(figsize=(12,8))\n",
    "plt.title('Car Models Distribution', fontsize=18)\n",
    "plot = sns.countplot(x=\"Brand_name\", data=car, order = car['Brand_name'].value_counts().index[:5], palette='ocean')\n",
    "plt.show()\n"
   ]
  },
  {
   "cell_type": "markdown",
   "id": "e52cad6c",
   "metadata": {},
   "source": [
    "In the Car dataset, cars with the Maruti model are the most numerous models in the dataset after Hyundai and Mahindra. "
   ]
  },
  {
   "cell_type": "code",
   "execution_count": 47,
   "id": "6ac6efe8",
   "metadata": {},
   "outputs": [
    {
     "data": {
      "image/png": "[encoded data removed]",
      "text/plain": [
       "<Figure size 576x432 with 1 Axes>"
      ]
     },
     "metadata": {
      "needs_background": "light"
     },
     "output_type": "display_data"
    }
   ],
   "source": [
    "plt.figure(figsize=(8,6))\n",
    "sns.histplot(data=car, x='year', kde=True, color='green')\n",
    "plt.title('Distribution of Year')\n",
    "plt.xlabel('Year')\n",
    "plt.ylabel('Count')\n",
    "plt.show()"
   ]
  },
  {
   "cell_type": "code",
   "execution_count": 57,
   "id": "0d313e53",
   "metadata": {},
   "outputs": [
    {
     "data": {
      "image/png": "[encoded data removed]",
      "text/plain": [
       "<Figure size 576x432 with 1 Axes>"
      ]
     },
     "metadata": {
      "needs_background": "light"
     },
     "output_type": "display_data"
    }
   ],
   "source": [
    "plt.figure(figsize=(8,6))\n",
    "sns.scatterplot(data=car, x='km_driven', y='selling_price', color='green')\n",
    "plt.title('Selling Price vs. Km Driven')\n",
    "plt.xlabel('Km Driven')\n",
    "plt.ylabel('Selling Price')\n",
    "plt.show()\n"
   ]
  },
  {
   "cell_type": "markdown",
   "id": "b57033e8",
   "metadata": {},
   "source": [
    "We can observe from the scatter plot that there is a weak negative correlation between selling_price and km_driven, which means that as the km_driven increases, the selling_price tends to decrease. However, this relationship is not very strong and there is a lot of variability in the data."
   ]
  },
  {
   "cell_type": "markdown",
   "id": "b3285cf8",
   "metadata": {},
   "source": [
    "# Summary for above bar plots:"
   ]
  },
  {
   "cell_type": "code",
   "execution_count": 21,
   "id": "b6d76153",
   "metadata": {
    "colab": {
     "base_uri": "https://localhost:8080/",
     "height": 483
    },
    "id": "b6d76153",
    "outputId": "ac74995c-abc5-41c6-f5ad-30f8addef481"
   },
   "outputs": [
    {
     "data": {
      "image/png": "[encoded data removed]",
      "text/plain": [
       "<Figure size 1296x576 with 4 Axes>"
      ]
     },
     "metadata": {
      "needs_background": "light"
     },
     "output_type": "display_data"
    }
   ],
   "source": [
    "# Subplot of Categorical Summary\n",
    "plt.figure(figsize=(18,8))\n",
    "\n",
    "plt.subplot(2,2,1)\n",
    "plt.title('Fuel Summary', fontsize=18)\n",
    "sns.countplot(data=car, x='fuel', palette='Blues_r')\n",
    "plt.xlabel('')\n",
    "plt.subplot(2,2,2)\n",
    "plt.title('Transmission Summary', fontsize=18)\n",
    "sns.countplot(data=car, x='transmission', palette='Blues_r')\n",
    "plt.xlabel('')\n",
    "plt.subplot(2,2,3)\n",
    "plt.title('Owner Summary', fontsize=18)\n",
    "sns.countplot(data=car, x='owner', palette='Blues_r')\n",
    "plt.xlabel('')\n",
    "plt.subplot(2,2,4)\n",
    "plt.title('Seller Type Summary', fontsize=18)\n",
    "sns.countplot(data=car, x='seller_type', palette='Blues_r')\n",
    "plt.xlabel('')\n",
    "\n",
    "plt.tight_layout()\n",
    "plt.show()"
   ]
  },
  {
   "cell_type": "code",
   "execution_count": 22,
   "id": "f6b02add",
   "metadata": {
    "colab": {
     "base_uri": "https://localhost:8080/",
     "height": 450
    },
    "id": "f6b02add",
    "outputId": "8334a1a4-e05e-4efa-e93f-76bc07e41cf3"
   },
   "outputs": [
    {
     "data": {
      "image/png": "[encoded data removed]",
      "text/plain": [
       "<Figure size 432x288 with 1 Axes>"
      ]
     },
     "metadata": {
      "needs_background": "light"
     },
     "output_type": "display_data"
    }
   ],
   "source": [
    "sns.boxplot(y=df['Brand_name'],x=df['selling_price'])\n",
    "plt.show()"
   ]
  },
  {
   "cell_type": "code",
   "execution_count": 59,
   "id": "262f6875",
   "metadata": {},
   "outputs": [
    {
     "data": {
      "image/png": "[encoded data removed]",
      "text/plain": [
       "<Figure size 1296x576 with 4 Axes>"
      ]
     },
     "metadata": {
      "needs_background": "light"
     },
     "output_type": "display_data"
    }
   ],
   "source": [
    "plt.figure(figsize=(18, 8))\n",
    "\n",
    "plt.subplot(2, 2, 1)\n",
    "sns.boxplot(x='fuel', y='selling_price', data=car, palette='Blues_r')\n",
    "plt.title('Fuel Type vs Selling Price')\n",
    "\n",
    "plt.subplot(2, 2, 2)\n",
    "sns.boxplot(x='transmission', y='selling_price', data=car, palette='Blues_r')\n",
    "plt.title('Transmission vs Selling Price')\n",
    "\n",
    "plt.subplot(2, 2, 3)\n",
    "sns.boxplot(x='owner', y='selling_price', data=car, palette='Blues_r')\n",
    "plt.title('Owner vs Selling Price')\n",
    "\n",
    "plt.subplot(2, 2, 4)\n",
    "sns.boxplot(x='seller_type', y='selling_price', data=car, palette='Blues_r')\n",
    "plt.title('Seller Type vs Selling Price')\n",
    "\n",
    "plt.tight_layout()\n",
    "plt.show()"
   ]
  },
  {
   "cell_type": "markdown",
   "id": "1c4d49f2",
   "metadata": {},
   "source": [
    "The box plot summarizes the distribution of selling_price across different categories. The box represents the interquartile range (IQR), which contains the middle 50% of the data. The line inside the box represents the median, and the whiskers represent the range of the data (excluding outliers)."
   ]
  },
  {
   "cell_type": "markdown",
   "id": "44314713",
   "metadata": {},
   "source": [
    "From the box plots, we can see that there are some differences in selling price between different categories. For example, cars with diesel fuel type tend to have a higher selling price than those with petrol or CNG fuel type. Similarly, cars with manual transmission tend to have a lower selling price than those with automatic transmission. Cars with fewer owners also tend to have a higher selling price than those with more owners. Finally, cars sold by individuals tend to have a lower selling price than those sold by dealerships."
   ]
  },
  {
   "cell_type": "code",
   "execution_count": 23,
   "id": "8f1daab8",
   "metadata": {
    "colab": {
     "base_uri": "https://localhost:8080/",
     "height": 450
    },
    "id": "8f1daab8",
    "outputId": "f91f20cf-269e-4f30-edd6-f8cad14891d5"
   },
   "outputs": [],
   "source": []
  },
  {
   "cell_type": "markdown",
   "id": "e7818083",
   "metadata": {},
   "source": [
    "# Factors Affecting Selling Price :"
   ]
  },
  {
   "cell_type": "code",
   "execution_count": 24,
   "id": "c4ec0d6e",
   "metadata": {
    "colab": {
     "base_uri": "https://localhost:8080/",
     "height": 692
    },
    "id": "c4ec0d6e",
    "outputId": "dd29d673-5b48-48e3-ad98-dc8050a59b59"
   },
   "outputs": [
    {
     "data": {
      "image/png": "[encoded data removed]",
      "text/plain": [
       "<Figure size 1728x1152 with 4 Axes>"
      ]
     },
     "metadata": {
      "needs_background": "light"
     },
     "output_type": "display_data"
    }
   ],
   "source": [
    "plt.figure(figsize=(24,16))\n",
    "\n",
    "plt.subplot(2,2,1)\n",
    "plt.title('fuel by selling_price Distribution', fontsize=18)\n",
    "sns.boxplot(data=car, x='selling_price', y='fuel', palette='Set2')\n",
    "plt.ticklabel_format(style='plain', axis='x')\n",
    "plt.subplot(2,2,2)\n",
    "plt.title('Transmission by selling_price Distribution', fontsize=18)\n",
    "sns.boxplot(data=car, x='selling_price', y='transmission', palette='Set2')\n",
    "plt.ticklabel_format(style='plain', axis='x')\n",
    "plt.subplot(2,2,3)\n",
    "plt.title('Owner by selling_price Distribution', fontsize=18)\n",
    "sns.boxplot(data=car, x='selling_price', y='owner', palette='Set2')\n",
    "plt.ticklabel_format(style='plain', axis='x')\n",
    "plt.subplot(2,2,4)\n",
    "plt.title('Seller_type by selling_price Distribution', fontsize=18)\n",
    "sns.boxplot(data=car, x='selling_price', y='seller_type', palette='Set2')\n",
    "plt.ticklabel_format(style='plain', axis='x')"
   ]
  },
  {
   "cell_type": "markdown",
   "id": "a8dea6e1",
   "metadata": {},
   "source": [
    "Findings:\n",
    "\n",
    "In this Car dataset, Cars with the Diesel Fuel type have more influence on Selling Prices.\n",
    "The Transmission Automatic type which has more influence on Selling prices than Manual.\n",
    "First Owner also has a high influence on Selling Prices.\n",
    "Seller Type Dealer also has a high influence on Selling Price."
   ]
  },
  {
   "cell_type": "code",
   "execution_count": 25,
   "id": "99fa1148",
   "metadata": {
    "colab": {
     "base_uri": "https://localhost:8080/"
    },
    "id": "99fa1148",
    "outputId": "f1f76ed6-584b-4238-d645-662c712842e5"
   },
   "outputs": [
    {
     "data": {
      "text/plain": [
       "Index(['name', 'Brand_name', 'year', 'selling_price', 'km_driven', 'fuel',\n",
       "       'seller_type', 'transmission', 'owner'],\n",
       "      dtype='object')"
      ]
     },
     "execution_count": 25,
     "metadata": {},
     "output_type": "execute_result"
    }
   ],
   "source": [
    "df.columns"
   ]
  },
  {
   "cell_type": "code",
   "execution_count": 26,
   "id": "1cc55dcf",
   "metadata": {
    "colab": {
     "base_uri": "https://localhost:8080/",
     "height": 507
    },
    "id": "1cc55dcf",
    "outputId": "04f6962c-884c-4b3d-9a53-ddf86c480010"
   },
   "outputs": [
    {
     "data": {
      "image/png": "[encoded data removed]",
      "text/plain": [
       "<Figure size 360x360 with 1 Axes>"
      ]
     },
     "metadata": {
      "needs_background": "light"
     },
     "output_type": "display_data"
    }
   ],
   "source": [
    "sns.displot(df['selling_price'])# using displot for checking selling price\n",
    "plt.show()"
   ]
  },
  {
   "cell_type": "code",
   "execution_count": 58,
   "id": "a40b54b9",
   "metadata": {},
   "outputs": [
    {
     "data": {
      "image/png": "[encoded data removed]",
      "text/plain": [
       "<Figure size 360x360 with 1 Axes>"
      ]
     },
     "metadata": {
      "needs_background": "light"
     },
     "output_type": "display_data"
    },
    {
     "data": {
      "text/plain": [
       "<Figure size 576x432 with 0 Axes>"
      ]
     },
     "metadata": {},
     "output_type": "display_data"
    }
   ],
   "source": [
    "sns.displot(df['year'])\n",
    "plt.figure(figsize=(8,6))\n",
    "plt.show()"
   ]
  },
  {
   "cell_type": "code",
   "execution_count": null,
   "id": "0f3acf1b",
   "metadata": {},
   "outputs": [],
   "source": [
    " "
   ]
  },
  {
   "cell_type": "code",
   "execution_count": 63,
   "id": "002d12bc",
   "metadata": {
    "colab": {
     "base_uri": "https://localhost:8080/",
     "height": 492
    },
    "id": "002d12bc",
    "outputId": "22fc844a-b019-452f-991f-d2f47bbe017e"
   },
   "outputs": [
    {
     "data": {
      "image/png": "[encoded data removed]",
      "text/plain": [
       "<Figure size 432x288 with 2 Axes>"
      ]
     },
     "metadata": {
      "needs_background": "light"
     },
     "output_type": "display_data"
    },
    {
     "data": {
      "text/plain": [
       "<Figure size 576x432 with 0 Axes>"
      ]
     },
     "metadata": {},
     "output_type": "display_data"
    }
   ],
   "source": [
    "corr =  df.corr()\n",
    "sns.heatmap(corr,annot=True,cmap='RdBu')\n",
    "plt.title('Correlation Matrix', fontsize=18)\n",
    "plt.show()"
   ]
  },
  {
   "cell_type": "markdown",
   "id": "b19fe9fe",
   "metadata": {},
   "source": [
    "From the correlation matrix, we can see that there is a positive correlation between \"year\" and \"selling_price\", which indicates that newer cars tend to have higher selling prices. There is also a negative correlation between \"km_driven\" and \"selling_price\", which indicates that cars with higher km_driven tend to have lower selling prices. Additionally, we can see that there is a weak negative correlation between \"year\" and \"km_driven\", which suggests that newer cars tend to have lower mileage"
   ]
  },
  {
   "cell_type": "code",
   "execution_count": 64,
   "id": "f5886cdc",
   "metadata": {},
   "outputs": [
    {
     "data": {
      "text/plain": [
       "<AxesSubplot:title={'center':'year by km_driven Distribution'}, xlabel='year', ylabel='km_driven'>"
      ]
     },
     "execution_count": 64,
     "metadata": {},
     "output_type": "execute_result"
    },
    {
     "data": {
      "image/png": "[encoded data removed]",
      "text/plain": [
       "<Figure size 576x432 with 1 Axes>"
      ]
     },
     "metadata": {
      "needs_background": "light"
     },
     "output_type": "display_data"
    }
   ],
   "source": [
    "plt.figure(figsize=(8,6))\n",
    "plt.title('year by km_driven Distribution', fontsize=18)\n",
    "sns.histplot(data=car, x='year', y='km_driven', bins=100)\n",
    "#plt.ticklabel_format(style='plain', axis='x')"
   ]
  },
  {
   "cell_type": "markdown",
   "id": "f6acc05a",
   "metadata": {
    "colab": {
     "base_uri": "https://localhost:8080/",
     "height": 435
    },
    "id": "053c68c5",
    "outputId": "b617c1ba-84cf-43f5-b6cf-2faa9ef074c3"
   },
   "source": [
    "# Finding the cars which are sold at Max. or Min. price"
   ]
  },
  {
   "cell_type": "code",
   "execution_count": 65,
   "id": "948b2e24",
   "metadata": {},
   "outputs": [
    {
     "data": {
      "text/html": [
       "<div>\n",
       "<style scoped>\n",
       "    .dataframe tbody tr th:only-of-type {\n",
       "        vertical-align: middle;\n",
       "    }\n",
       "\n",
       "    .dataframe tbody tr th {\n",
       "        vertical-align: top;\n",
       "    }\n",
       "\n",
       "    .dataframe thead th {\n",
       "        text-align: right;\n",
       "    }\n",
       "</style>\n",
       "<table border=\"1\" class=\"dataframe\">\n",
       "  <thead>\n",
       "    <tr style=\"text-align: right;\">\n",
       "      <th></th>\n",
       "      <th>km_driven</th>\n",
       "      <th>selling_price</th>\n",
       "      <th>year</th>\n",
       "    </tr>\n",
       "    <tr>\n",
       "      <th>name</th>\n",
       "      <th></th>\n",
       "      <th></th>\n",
       "      <th></th>\n",
       "    </tr>\n",
       "  </thead>\n",
       "  <tbody>\n",
       "    <tr>\n",
       "      <th>Audi RS7 2015-2019 Sportback Performance</th>\n",
       "      <td>13000.0</td>\n",
       "      <td>8900000.0</td>\n",
       "      <td>2016.0</td>\n",
       "    </tr>\n",
       "    <tr>\n",
       "      <th>Mercedes-Benz S-Class S 350d Connoisseurs Edition</th>\n",
       "      <td>6500.0</td>\n",
       "      <td>8150000.0</td>\n",
       "      <td>2017.0</td>\n",
       "    </tr>\n",
       "    <tr>\n",
       "      <th>Mercedes-Benz GLS 2016-2020 350d 4MATIC</th>\n",
       "      <td>77350.0</td>\n",
       "      <td>5500000.0</td>\n",
       "      <td>2016.0</td>\n",
       "    </tr>\n",
       "    <tr>\n",
       "      <th>BMW X5 xDrive 30d xLine</th>\n",
       "      <td>30000.0</td>\n",
       "      <td>4950000.0</td>\n",
       "      <td>2019.0</td>\n",
       "    </tr>\n",
       "    <tr>\n",
       "      <th>Audi A5 Sportback</th>\n",
       "      <td>1500.0</td>\n",
       "      <td>4700000.0</td>\n",
       "      <td>2020.0</td>\n",
       "    </tr>\n",
       "    <tr>\n",
       "      <th>...</th>\n",
       "      <td>...</td>\n",
       "      <td>...</td>\n",
       "      <td>...</td>\n",
       "    </tr>\n",
       "    <tr>\n",
       "      <th>Maruti 800 EX</th>\n",
       "      <td>45000.0</td>\n",
       "      <td>35000.0</td>\n",
       "      <td>2002.5</td>\n",
       "    </tr>\n",
       "    <tr>\n",
       "      <th>OpelCorsa 1.4 GL</th>\n",
       "      <td>100000.0</td>\n",
       "      <td>35000.0</td>\n",
       "      <td>2002.0</td>\n",
       "    </tr>\n",
       "    <tr>\n",
       "      <th>Tata Nano Std BSII</th>\n",
       "      <td>50000.0</td>\n",
       "      <td>35000.0</td>\n",
       "      <td>2009.0</td>\n",
       "    </tr>\n",
       "    <tr>\n",
       "      <th>Ford Ikon 1.4 ZXi</th>\n",
       "      <td>42743.0</td>\n",
       "      <td>22000.0</td>\n",
       "      <td>2000.0</td>\n",
       "    </tr>\n",
       "    <tr>\n",
       "      <th>Ford Ikon 1.6 ZXI NXt</th>\n",
       "      <td>25000.0</td>\n",
       "      <td>20000.0</td>\n",
       "      <td>2005.0</td>\n",
       "    </tr>\n",
       "  </tbody>\n",
       "</table>\n",
       "<p>1491 rows × 3 columns</p>\n",
       "</div>"
      ],
      "text/plain": [
       "                                                   km_driven  selling_price  \\\n",
       "name                                                                          \n",
       "Audi RS7 2015-2019 Sportback Performance             13000.0      8900000.0   \n",
       "Mercedes-Benz S-Class S 350d Connoisseurs Edition     6500.0      8150000.0   \n",
       "Mercedes-Benz GLS 2016-2020 350d 4MATIC              77350.0      5500000.0   \n",
       "BMW X5 xDrive 30d xLine                              30000.0      4950000.0   \n",
       "Audi A5 Sportback                                     1500.0      4700000.0   \n",
       "...                                                      ...            ...   \n",
       "Maruti 800 EX                                        45000.0        35000.0   \n",
       "OpelCorsa 1.4 GL                                    100000.0        35000.0   \n",
       "Tata Nano Std BSII                                   50000.0        35000.0   \n",
       "Ford Ikon 1.4 ZXi                                    42743.0        22000.0   \n",
       "Ford Ikon 1.6 ZXI NXt                                25000.0        20000.0   \n",
       "\n",
       "                                                     year  \n",
       "name                                                       \n",
       "Audi RS7 2015-2019 Sportback Performance           2016.0  \n",
       "Mercedes-Benz S-Class S 350d Connoisseurs Edition  2017.0  \n",
       "Mercedes-Benz GLS 2016-2020 350d 4MATIC            2016.0  \n",
       "BMW X5 xDrive 30d xLine                            2019.0  \n",
       "Audi A5 Sportback                                  2020.0  \n",
       "...                                                   ...  \n",
       "Maruti 800 EX                                      2002.5  \n",
       "OpelCorsa 1.4 GL                                   2002.0  \n",
       "Tata Nano Std BSII                                 2009.0  \n",
       "Ford Ikon 1.4 ZXi                                  2000.0  \n",
       "Ford Ikon 1.6 ZXI NXt                              2005.0  \n",
       "\n",
       "[1491 rows x 3 columns]"
      ]
     },
     "execution_count": 65,
     "metadata": {},
     "output_type": "execute_result"
    }
   ],
   "source": [
    "pd.pivot_table(data=car, index=['name'], values=['selling_price','km_driven','year']).sort_values(by='selling_price', \n",
    "                                                                                                  ascending=False)"
   ]
  },
  {
   "cell_type": "code",
   "execution_count": 66,
   "id": "ffb08074",
   "metadata": {},
   "outputs": [
    {
     "data": {
      "text/html": [
       "<div>\n",
       "<style scoped>\n",
       "    .dataframe tbody tr th:only-of-type {\n",
       "        vertical-align: middle;\n",
       "    }\n",
       "\n",
       "    .dataframe tbody tr th {\n",
       "        vertical-align: top;\n",
       "    }\n",
       "\n",
       "    .dataframe thead th {\n",
       "        text-align: right;\n",
       "    }\n",
       "</style>\n",
       "<table border=\"1\" class=\"dataframe\">\n",
       "  <thead>\n",
       "    <tr style=\"text-align: right;\">\n",
       "      <th></th>\n",
       "      <th>km_driven</th>\n",
       "      <th>selling_price</th>\n",
       "      <th>year</th>\n",
       "    </tr>\n",
       "    <tr>\n",
       "      <th>name</th>\n",
       "      <th></th>\n",
       "      <th></th>\n",
       "      <th></th>\n",
       "    </tr>\n",
       "  </thead>\n",
       "  <tbody>\n",
       "    <tr>\n",
       "      <th>Chevrolet Tavera Neo LS B3 - 7(C) seats BSIII</th>\n",
       "      <td>350000.0</td>\n",
       "      <td>280000.0</td>\n",
       "      <td>2010.0</td>\n",
       "    </tr>\n",
       "    <tr>\n",
       "      <th>Maruti SX4 S Cross DDiS 320 Delta</th>\n",
       "      <td>320000.0</td>\n",
       "      <td>495000.0</td>\n",
       "      <td>2015.5</td>\n",
       "    </tr>\n",
       "    <tr>\n",
       "      <th>Volkswagen Jetta 2.0 TDI Comfortline</th>\n",
       "      <td>312000.0</td>\n",
       "      <td>350000.0</td>\n",
       "      <td>2011.0</td>\n",
       "    </tr>\n",
       "    <tr>\n",
       "      <th>Mahindra Xylo E9</th>\n",
       "      <td>295000.0</td>\n",
       "      <td>300000.0</td>\n",
       "      <td>2012.0</td>\n",
       "    </tr>\n",
       "    <tr>\n",
       "      <th>Toyota Innova 2.5 G (Diesel) 7 Seater BS IV</th>\n",
       "      <td>281500.0</td>\n",
       "      <td>550000.0</td>\n",
       "      <td>2008.0</td>\n",
       "    </tr>\n",
       "    <tr>\n",
       "      <th>...</th>\n",
       "      <td>...</td>\n",
       "      <td>...</td>\n",
       "      <td>...</td>\n",
       "    </tr>\n",
       "    <tr>\n",
       "      <th>Renault KWID Climber 1.0 MT Opt BSIV</th>\n",
       "      <td>1000.0</td>\n",
       "      <td>541000.0</td>\n",
       "      <td>2020.0</td>\n",
       "    </tr>\n",
       "    <tr>\n",
       "      <th>Honda Amaze S Petrol BSIV</th>\n",
       "      <td>1000.0</td>\n",
       "      <td>614000.0</td>\n",
       "      <td>2020.0</td>\n",
       "    </tr>\n",
       "    <tr>\n",
       "      <th>Ford Ecosport Sports Petrol</th>\n",
       "      <td>1000.0</td>\n",
       "      <td>1100000.0</td>\n",
       "      <td>2020.0</td>\n",
       "    </tr>\n",
       "    <tr>\n",
       "      <th>Tata Harrier XE</th>\n",
       "      <td>1000.0</td>\n",
       "      <td>426000.0</td>\n",
       "      <td>2020.0</td>\n",
       "    </tr>\n",
       "    <tr>\n",
       "      <th>Ford Figo Titanium</th>\n",
       "      <td>606.0</td>\n",
       "      <td>690500.0</td>\n",
       "      <td>2020.0</td>\n",
       "    </tr>\n",
       "  </tbody>\n",
       "</table>\n",
       "<p>1491 rows × 3 columns</p>\n",
       "</div>"
      ],
      "text/plain": [
       "                                               km_driven  selling_price  \\\n",
       "name                                                                      \n",
       "Chevrolet Tavera Neo LS B3 - 7(C) seats BSIII   350000.0       280000.0   \n",
       "Maruti SX4 S Cross DDiS 320 Delta               320000.0       495000.0   \n",
       "Volkswagen Jetta 2.0 TDI Comfortline            312000.0       350000.0   \n",
       "Mahindra Xylo E9                                295000.0       300000.0   \n",
       "Toyota Innova 2.5 G (Diesel) 7 Seater BS IV     281500.0       550000.0   \n",
       "...                                                  ...            ...   \n",
       "Renault KWID Climber 1.0 MT Opt BSIV              1000.0       541000.0   \n",
       "Honda Amaze S Petrol BSIV                         1000.0       614000.0   \n",
       "Ford Ecosport Sports Petrol                       1000.0      1100000.0   \n",
       "Tata Harrier XE                                   1000.0       426000.0   \n",
       "Ford Figo Titanium                                 606.0       690500.0   \n",
       "\n",
       "                                                 year  \n",
       "name                                                   \n",
       "Chevrolet Tavera Neo LS B3 - 7(C) seats BSIII  2010.0  \n",
       "Maruti SX4 S Cross DDiS 320 Delta              2015.5  \n",
       "Volkswagen Jetta 2.0 TDI Comfortline           2011.0  \n",
       "Mahindra Xylo E9                               2012.0  \n",
       "Toyota Innova 2.5 G (Diesel) 7 Seater BS IV    2008.0  \n",
       "...                                               ...  \n",
       "Renault KWID Climber 1.0 MT Opt BSIV           2020.0  \n",
       "Honda Amaze S Petrol BSIV                      2020.0  \n",
       "Ford Ecosport Sports Petrol                    2020.0  \n",
       "Tata Harrier XE                                2020.0  \n",
       "Ford Figo Titanium                             2020.0  \n",
       "\n",
       "[1491 rows x 3 columns]"
      ]
     },
     "execution_count": 66,
     "metadata": {},
     "output_type": "execute_result"
    }
   ],
   "source": [
    "pd.pivot_table(data=car, index=['name'], values=['selling_price','km_driven','year']).sort_values(by='km_driven', \n",
    "                                                                                                  ascending=False)"
   ]
  },
  {
   "cell_type": "code",
   "execution_count": 67,
   "id": "360a0d77",
   "metadata": {},
   "outputs": [
    {
     "data": {
      "text/html": [
       "<div>\n",
       "<style scoped>\n",
       "    .dataframe tbody tr th:only-of-type {\n",
       "        vertical-align: middle;\n",
       "    }\n",
       "\n",
       "    .dataframe tbody tr th {\n",
       "        vertical-align: top;\n",
       "    }\n",
       "\n",
       "    .dataframe thead th {\n",
       "        text-align: right;\n",
       "    }\n",
       "</style>\n",
       "<table border=\"1\" class=\"dataframe\">\n",
       "  <thead>\n",
       "    <tr style=\"text-align: right;\">\n",
       "      <th></th>\n",
       "      <th>km_driven</th>\n",
       "      <th>selling_price</th>\n",
       "      <th>year</th>\n",
       "    </tr>\n",
       "    <tr>\n",
       "      <th>name</th>\n",
       "      <th></th>\n",
       "      <th></th>\n",
       "      <th></th>\n",
       "    </tr>\n",
       "  </thead>\n",
       "  <tbody>\n",
       "    <tr>\n",
       "      <th>Mahindra XUV500 W11 Option AWD</th>\n",
       "      <td>25000.0</td>\n",
       "      <td>1400000.0</td>\n",
       "      <td>2020.0</td>\n",
       "    </tr>\n",
       "    <tr>\n",
       "      <th>Honda Amaze S Petrol BSIV</th>\n",
       "      <td>1000.0</td>\n",
       "      <td>614000.0</td>\n",
       "      <td>2020.0</td>\n",
       "    </tr>\n",
       "    <tr>\n",
       "      <th>Maruti Alto K10 LXI CNG</th>\n",
       "      <td>40000.0</td>\n",
       "      <td>282000.0</td>\n",
       "      <td>2020.0</td>\n",
       "    </tr>\n",
       "    <tr>\n",
       "      <th>Ford Ecosport Sports Petrol</th>\n",
       "      <td>1000.0</td>\n",
       "      <td>1100000.0</td>\n",
       "      <td>2020.0</td>\n",
       "    </tr>\n",
       "    <tr>\n",
       "      <th>Ford Ecosport Thunder Edition Diesel</th>\n",
       "      <td>1010.0</td>\n",
       "      <td>1331000.0</td>\n",
       "      <td>2020.0</td>\n",
       "    </tr>\n",
       "    <tr>\n",
       "      <th>...</th>\n",
       "      <td>...</td>\n",
       "      <td>...</td>\n",
       "      <td>...</td>\n",
       "    </tr>\n",
       "    <tr>\n",
       "      <th>Maruti Omni 5 Str STD</th>\n",
       "      <td>60000.0</td>\n",
       "      <td>65000.0</td>\n",
       "      <td>1998.0</td>\n",
       "    </tr>\n",
       "    <tr>\n",
       "      <th>Maruti Omni 5 Str STD LPG</th>\n",
       "      <td>35000.0</td>\n",
       "      <td>50000.0</td>\n",
       "      <td>1998.0</td>\n",
       "    </tr>\n",
       "    <tr>\n",
       "      <th>Maruti Esteem AX</th>\n",
       "      <td>70000.0</td>\n",
       "      <td>79000.0</td>\n",
       "      <td>1997.0</td>\n",
       "    </tr>\n",
       "    <tr>\n",
       "      <th>Mahindra Jeep CL 500 MDI</th>\n",
       "      <td>77500.0</td>\n",
       "      <td>200000.0</td>\n",
       "      <td>1996.5</td>\n",
       "    </tr>\n",
       "    <tr>\n",
       "      <th>Maruti Gypsy E MG410W ST</th>\n",
       "      <td>100000.0</td>\n",
       "      <td>95000.0</td>\n",
       "      <td>1995.0</td>\n",
       "    </tr>\n",
       "  </tbody>\n",
       "</table>\n",
       "<p>1491 rows × 3 columns</p>\n",
       "</div>"
      ],
      "text/plain": [
       "                                      km_driven  selling_price    year\n",
       "name                                                                  \n",
       "Mahindra XUV500 W11 Option AWD          25000.0      1400000.0  2020.0\n",
       "Honda Amaze S Petrol BSIV                1000.0       614000.0  2020.0\n",
       "Maruti Alto K10 LXI CNG                 40000.0       282000.0  2020.0\n",
       "Ford Ecosport Sports Petrol              1000.0      1100000.0  2020.0\n",
       "Ford Ecosport Thunder Edition Diesel     1010.0      1331000.0  2020.0\n",
       "...                                         ...            ...     ...\n",
       "Maruti Omni 5 Str STD                   60000.0        65000.0  1998.0\n",
       "Maruti Omni 5 Str STD LPG               35000.0        50000.0  1998.0\n",
       "Maruti Esteem AX                        70000.0        79000.0  1997.0\n",
       "Mahindra Jeep CL 500 MDI                77500.0       200000.0  1996.5\n",
       "Maruti Gypsy E MG410W ST               100000.0        95000.0  1995.0\n",
       "\n",
       "[1491 rows x 3 columns]"
      ]
     },
     "execution_count": 67,
     "metadata": {},
     "output_type": "execute_result"
    }
   ],
   "source": [
    "pd.pivot_table(data=car, index=['name'], values=['selling_price','km_driven','year']).sort_values(by='year', ascending=False)\n"
   ]
  },
  {
   "cell_type": "raw",
   "id": "9400dd03",
   "metadata": {},
   "source": [
    "From above 3 Table we get these conclussions;\n",
    "\n",
    "1- The Audi RS7 2015-2019 Sportback Performance is the car model with the highest selling price, reaching 8,900,000 with a relatively small number of KM. \n",
    "2- In contrast, the Ford Icon 1.6 ZXI NXt is a car model with the lowest selling price of 20,000 but has a fairly high KM Driven, reaching 25,000 KM because it was purchased in 2005.\n",
    "3- Chevrolet Tavera Neo LS B3 - 7(C) seats BSIII is the car model with the highest KM Driven, reaching 350,000 KM with a selling price of 280,000 purchased in 2010. \n",
    "4- On the other hand, the Ford Figo Titanium is the car model with the lowest KM Driven with 606 KM with a selling price of 690,500 purchased in 2020."
   ]
  },
  {
   "cell_type": "markdown",
   "id": "6d8f70bb",
   "metadata": {},
   "source": [
    "# CONCLUSION :"
   ]
  },
  {
   "cell_type": "raw",
   "id": "840e9d9a",
   "metadata": {},
   "source": [
    "1.The Maruti model car has higher units in the Car dataset after Hyundai and Mahindra.\n",
    "2.The amount of the car will be high as compared to other if the car has these properties>> Fuel type- Diesel, Transmission Type- Manual Transmissions, Owner Type- First Owner Cars, and Seller- Individual Sellers.\n",
    "3.IF there is a new car, the selling price will be high, aKM Driven will be low."
   ]
  },
  {
   "cell_type": "markdown",
   "id": "49c9a9ab",
   "metadata": {},
   "source": [
    "# data processing"
   ]
  },
  {
   "cell_type": "code",
   "execution_count": 29,
   "id": "1a0a027c",
   "metadata": {
    "colab": {
     "base_uri": "https://localhost:8080/",
     "height": 207
    },
    "id": "1a0a027c",
    "outputId": "94da9391-5d07-44c5-92bf-439def4a1ca4"
   },
   "outputs": [
    {
     "data": {
      "text/html": [
       "<div>\n",
       "<style scoped>\n",
       "    .dataframe tbody tr th:only-of-type {\n",
       "        vertical-align: middle;\n",
       "    }\n",
       "\n",
       "    .dataframe tbody tr th {\n",
       "        vertical-align: top;\n",
       "    }\n",
       "\n",
       "    .dataframe thead th {\n",
       "        text-align: right;\n",
       "    }\n",
       "</style>\n",
       "<table border=\"1\" class=\"dataframe\">\n",
       "  <thead>\n",
       "    <tr style=\"text-align: right;\">\n",
       "      <th></th>\n",
       "      <th>count</th>\n",
       "      <th>mean</th>\n",
       "      <th>std</th>\n",
       "      <th>min</th>\n",
       "      <th>1%</th>\n",
       "      <th>2%</th>\n",
       "      <th>3%</th>\n",
       "      <th>5%</th>\n",
       "      <th>50%</th>\n",
       "      <th>97%</th>\n",
       "      <th>98%</th>\n",
       "      <th>99%</th>\n",
       "      <th>max</th>\n",
       "    </tr>\n",
       "  </thead>\n",
       "  <tbody>\n",
       "    <tr>\n",
       "      <th>year</th>\n",
       "      <td>3594.0</td>\n",
       "      <td>2012.966333</td>\n",
       "      <td>4.248636</td>\n",
       "      <td>1992.0</td>\n",
       "      <td>2000.00</td>\n",
       "      <td>2003.0</td>\n",
       "      <td>2004.0</td>\n",
       "      <td>2005.0</td>\n",
       "      <td>2013.5</td>\n",
       "      <td>2019.0</td>\n",
       "      <td>2019.0</td>\n",
       "      <td>2020.0</td>\n",
       "      <td>2020.0</td>\n",
       "    </tr>\n",
       "    <tr>\n",
       "      <th>selling_price</th>\n",
       "      <td>3594.0</td>\n",
       "      <td>473761.870618</td>\n",
       "      <td>508755.391845</td>\n",
       "      <td>20000.0</td>\n",
       "      <td>51937.77</td>\n",
       "      <td>60000.0</td>\n",
       "      <td>70000.0</td>\n",
       "      <td>80000.0</td>\n",
       "      <td>350000.0</td>\n",
       "      <td>1500000.0</td>\n",
       "      <td>1800000.0</td>\n",
       "      <td>2675000.0</td>\n",
       "      <td>8900000.0</td>\n",
       "    </tr>\n",
       "    <tr>\n",
       "      <th>km_driven</th>\n",
       "      <td>3594.0</td>\n",
       "      <td>69222.927657</td>\n",
       "      <td>47530.408343</td>\n",
       "      <td>1.0</td>\n",
       "      <td>1753.94</td>\n",
       "      <td>5000.0</td>\n",
       "      <td>6571.1</td>\n",
       "      <td>10000.0</td>\n",
       "      <td>60000.0</td>\n",
       "      <td>170000.0</td>\n",
       "      <td>192420.0</td>\n",
       "      <td>223046.2</td>\n",
       "      <td>806599.0</td>\n",
       "    </tr>\n",
       "  </tbody>\n",
       "</table>\n",
       "</div>"
      ],
      "text/plain": [
       "                count           mean            std      min        1%   \n",
       "year           3594.0    2012.966333       4.248636   1992.0   2000.00  \\\n",
       "selling_price  3594.0  473761.870618  508755.391845  20000.0  51937.77   \n",
       "km_driven      3594.0   69222.927657   47530.408343      1.0   1753.94   \n",
       "\n",
       "                    2%       3%       5%       50%        97%        98%   \n",
       "year            2003.0   2004.0   2005.0    2013.5     2019.0     2019.0  \\\n",
       "selling_price  60000.0  70000.0  80000.0  350000.0  1500000.0  1800000.0   \n",
       "km_driven       5000.0   6571.1  10000.0   60000.0   170000.0   192420.0   \n",
       "\n",
       "                     99%        max  \n",
       "year              2020.0     2020.0  \n",
       "selling_price  2675000.0  8900000.0  \n",
       "km_driven       223046.2   806599.0  "
      ]
     },
     "execution_count": 29,
     "metadata": {},
     "output_type": "execute_result"
    }
   ],
   "source": [
    "df.describe(percentiles=[0.01,0.02,0.03,0.05,0.97,0.98,0.99]).T"
   ]
  },
  {
   "cell_type": "code",
   "execution_count": 62,
   "id": "f6960f23",
   "metadata": {
    "colab": {
     "base_uri": "https://localhost:8080/",
     "height": 450
    },
    "id": "f6960f23",
    "outputId": "de83bd76-7eed-4f17-cec0-a66087e27f38"
   },
   "outputs": [
    {
     "data": {
      "image/png": "[encoded data removed]",
      "text/plain": [
       "<Figure size 640x480 with 1 Axes>"
      ]
     },
     "metadata": {},
     "output_type": "display_data"
    }
   ],
   "source": [
    "sns.boxplot(x=df['km_driven'])\n",
    "plt.show()"
   ]
  },
  {
   "cell_type": "code",
   "execution_count": 33,
   "id": "5259c5f1",
   "metadata": {
    "colab": {
     "base_uri": "https://localhost:8080/"
    },
    "id": "5259c5f1",
    "outputId": "fb6621a2-0417-4a58-a2b0-8576379d385b"
   },
   "outputs": [
    {
     "name": "stdout",
     "output_type": "stream",
     "text": [
      "(2154, 9)\n"
     ]
    }
   ],
   "source": [
    "print(df[df['km_driven']>50000].shape)"
   ]
  },
  {
   "cell_type": "code",
   "execution_count": 29,
   "id": "c0a88248",
   "metadata": {
    "colab": {
     "base_uri": "https://localhost:8080/",
     "height": 435
    },
    "id": "c0a88248",
    "outputId": "7ceffc14-c95c-4635-a531-961d02f87d18"
   },
   "outputs": [
    {
     "data": {
      "image/png": "[encoded data removed]",
      "text/plain": [
       "<Figure size 432x288 with 1 Axes>"
      ]
     },
     "metadata": {
      "needs_background": "light"
     },
     "output_type": "display_data"
    }
   ],
   "source": [
    "sns.boxplot(x=df['year'])\n",
    "plt.show()"
   ]
  },
  {
   "cell_type": "code",
   "execution_count": 30,
   "id": "a49a9805",
   "metadata": {
    "colab": {
     "base_uri": "https://localhost:8080/"
    },
    "id": "a49a9805",
    "outputId": "b5d99220-027c-4a85-8a5e-692793e201cd"
   },
   "outputs": [
    {
     "name": "stdout",
     "output_type": "stream",
     "text": [
      "(3557, 9)\n"
     ]
    }
   ],
   "source": [
    "print(df[df['year']>2000].shape)"
   ]
  },
  {
   "cell_type": "code",
   "execution_count": 31,
   "id": "c884d333",
   "metadata": {
    "colab": {
     "base_uri": "https://localhost:8080/",
     "height": 450
    },
    "id": "c884d333",
    "outputId": "21a5a566-d38b-48cb-98f0-647d8d334bba"
   },
   "outputs": [
    {
     "data": {
      "image/png": "[encoded data removed]",
      "text/plain": [
       "<Figure size 432x288 with 1 Axes>"
      ]
     },
     "metadata": {
      "needs_background": "light"
     },
     "output_type": "display_data"
    }
   ],
   "source": [
    "sns.boxplot(x=df['selling_price'])\n",
    "plt.show()"
   ]
  },
  {
   "cell_type": "markdown",
   "id": "3a8d4894",
   "metadata": {},
   "source": []
  },
  {
   "cell_type": "markdown",
   "id": "74e35bb6",
   "metadata": {},
   "source": []
  },
  {
   "cell_type": "code",
   "execution_count": 32,
   "id": "5ea44cf3",
   "metadata": {
    "colab": {
     "base_uri": "https://localhost:8080/"
    },
    "id": "5ea44cf3",
    "outputId": "d1b1a2f9-db96-4828-8789-f3b02b9b1eba"
   },
   "outputs": [
    {
     "name": "stdout",
     "output_type": "stream",
     "text": [
      "(3559, 9)\n"
     ]
    }
   ],
   "source": [
    "print(df[df['selling_price']>50000].shape)"
   ]
  },
  {
   "cell_type": "code",
   "execution_count": null,
   "id": "617b8111",
   "metadata": {
    "id": "617b8111"
   },
   "outputs": [],
   "source": [
    " "
   ]
  },
  {
   "cell_type": "code",
   "execution_count": 33,
   "id": "e54bf382",
   "metadata": {
    "colab": {
     "base_uri": "https://localhost:8080/",
     "height": 449
    },
    "id": "e54bf382",
    "outputId": "f4fe3c1a-e913-4f75-fbd0-f5eec100d2b1"
   },
   "outputs": [],
   "source": [
    "#sns.boxplot(x=df['year'])\n",
    "#plt.show()"
   ]
  },
  {
   "cell_type": "code",
   "execution_count": 35,
   "id": "hW9ArHh7x_Be",
   "metadata": {
    "colab": {
     "base_uri": "https://localhost:8080/",
     "height": 206
    },
    "id": "hW9ArHh7x_Be",
    "outputId": "1c34fe31-7e63-496f-e441-874d918254fd"
   },
   "outputs": [
    {
     "data": {
      "text/html": [
       "<div>\n",
       "<style scoped>\n",
       "    .dataframe tbody tr th:only-of-type {\n",
       "        vertical-align: middle;\n",
       "    }\n",
       "\n",
       "    .dataframe tbody tr th {\n",
       "        vertical-align: top;\n",
       "    }\n",
       "\n",
       "    .dataframe thead th {\n",
       "        text-align: right;\n",
       "    }\n",
       "</style>\n",
       "<table border=\"1\" class=\"dataframe\">\n",
       "  <thead>\n",
       "    <tr style=\"text-align: right;\">\n",
       "      <th></th>\n",
       "      <th>name</th>\n",
       "      <th>Brand_name</th>\n",
       "      <th>year</th>\n",
       "      <th>selling_price</th>\n",
       "      <th>km_driven</th>\n",
       "      <th>fuel</th>\n",
       "      <th>seller_type</th>\n",
       "      <th>transmission</th>\n",
       "      <th>owner</th>\n",
       "    </tr>\n",
       "  </thead>\n",
       "  <tbody>\n",
       "    <tr>\n",
       "      <th>0</th>\n",
       "      <td>Maruti 800 AC</td>\n",
       "      <td>Maruti</td>\n",
       "      <td>2007</td>\n",
       "      <td>60000</td>\n",
       "      <td>70000</td>\n",
       "      <td>Petrol</td>\n",
       "      <td>Individual</td>\n",
       "      <td>Manual</td>\n",
       "      <td>First Owner</td>\n",
       "    </tr>\n",
       "    <tr>\n",
       "      <th>1</th>\n",
       "      <td>Maruti Wagon R LXI Minor</td>\n",
       "      <td>Maruti</td>\n",
       "      <td>2007</td>\n",
       "      <td>135000</td>\n",
       "      <td>50000</td>\n",
       "      <td>Petrol</td>\n",
       "      <td>Individual</td>\n",
       "      <td>Manual</td>\n",
       "      <td>First Owner</td>\n",
       "    </tr>\n",
       "    <tr>\n",
       "      <th>2</th>\n",
       "      <td>Hyundai Verna 1.6 SX</td>\n",
       "      <td>Hyundai</td>\n",
       "      <td>2012</td>\n",
       "      <td>600000</td>\n",
       "      <td>100000</td>\n",
       "      <td>Diesel</td>\n",
       "      <td>Individual</td>\n",
       "      <td>Manual</td>\n",
       "      <td>First Owner</td>\n",
       "    </tr>\n",
       "    <tr>\n",
       "      <th>3</th>\n",
       "      <td>Datsun RediGO T Option</td>\n",
       "      <td>Datsun</td>\n",
       "      <td>2017</td>\n",
       "      <td>250000</td>\n",
       "      <td>46000</td>\n",
       "      <td>Petrol</td>\n",
       "      <td>Individual</td>\n",
       "      <td>Manual</td>\n",
       "      <td>First Owner</td>\n",
       "    </tr>\n",
       "    <tr>\n",
       "      <th>4</th>\n",
       "      <td>Honda Amaze VX i-DTEC</td>\n",
       "      <td>Maruti</td>\n",
       "      <td>2007</td>\n",
       "      <td>140000</td>\n",
       "      <td>125000</td>\n",
       "      <td>Petrol</td>\n",
       "      <td>Individual</td>\n",
       "      <td>Manual</td>\n",
       "      <td>First Owner</td>\n",
       "    </tr>\n",
       "  </tbody>\n",
       "</table>\n",
       "</div>"
      ],
      "text/plain": [
       "                       name Brand_name  year  selling_price  km_driven  \\\n",
       "0             Maruti 800 AC     Maruti  2007          60000      70000   \n",
       "1  Maruti Wagon R LXI Minor     Maruti  2007         135000      50000   \n",
       "2      Hyundai Verna 1.6 SX    Hyundai  2012         600000     100000   \n",
       "3    Datsun RediGO T Option     Datsun  2017         250000      46000   \n",
       "4     Honda Amaze VX i-DTEC     Maruti  2007         140000     125000   \n",
       "\n",
       "     fuel seller_type transmission        owner  \n",
       "0  Petrol  Individual       Manual  First Owner  \n",
       "1  Petrol  Individual       Manual  First Owner  \n",
       "2  Diesel  Individual       Manual  First Owner  \n",
       "3  Petrol  Individual       Manual  First Owner  \n",
       "4  Petrol  Individual       Manual  First Owner  "
      ]
     },
     "execution_count": 35,
     "metadata": {},
     "output_type": "execute_result"
    }
   ],
   "source": [
    "df.head()"
   ]
  },
  {
   "cell_type": "code",
   "execution_count": 112,
   "id": "98076ca8",
   "metadata": {
    "colab": {
     "base_uri": "https://localhost:8080/"
    },
    "id": "98076ca8",
    "outputId": "335b3acd-2f6f-4416-bc52-daa25a2bfbe1"
   },
   "outputs": [],
   "source": [
    "#df['name'].nunique()"
   ]
  },
  {
   "cell_type": "code",
   "execution_count": null,
   "id": "7t9ZwlzBy8xX",
   "metadata": {
    "colab": {
     "base_uri": "https://localhost:8080/"
    },
    "id": "7t9ZwlzBy8xX",
    "outputId": "946d34b6-a4bb-4d22-a136-13128eabb67a"
   },
   "outputs": [],
   "source": [
    "df.drop('name',axis=1,inplace=True)\n",
    "df.columns"
   ]
  },
  {
   "cell_type": "code",
   "execution_count": null,
   "id": "35742c76",
   "metadata": {
    "colab": {
     "base_uri": "https://localhost:8080/"
    },
    "id": "35742c76",
    "outputId": "fb716e7e-7b7f-4615-a3b3-d3322623ee26"
   },
   "outputs": [],
   "source": [
    "x = df.drop('selling_price',axis=1)\n",
    "y = df['selling_price']\n",
    "print(type(x))\n",
    "print(type(y))\n",
    "print(x.shape)\n",
    "print(y.shape)"
   ]
  },
  {
   "cell_type": "markdown",
   "id": "317ada26",
   "metadata": {
    "id": "Cv880uUGm-6i"
   },
   "source": [
    "# Split the data into train and test"
   ]
  },
  {
   "cell_type": "code",
   "execution_count": null,
   "id": "adc74081",
   "metadata": {
    "colab": {
     "base_uri": "https://localhost:8080/"
    },
    "id": "adc74081",
    "outputId": "6143db59-cbb4-4421-c40a-01e722725ae9"
   },
   "outputs": [],
   "source": [
    "# Spliting training and testing dataset\n",
    "from sklearn.model_selection import train_test_split\n",
    "x_train, x_test, y_train,y_test = train_test_split(x,y,test_size = 0.2, random_state=227)\n",
    "print(x_train.shape)\n",
    "print(x_test.shape)\n",
    "print(y_train.shape)"
   ]
  },
  {
   "cell_type": "markdown",
   "id": "c5a10054",
   "metadata": {},
   "source": [
    "# Create function to cpmute MSE, RMSE, MAE,Trai and Test Test Score"
   ]
  },
  {
   "cell_type": "code",
   "execution_count": null,
   "id": "39220b72",
   "metadata": {
    "id": "39220b72"
   },
   "outputs": [],
   "source": [
    "from sklearn.metrics import mean_squared_error,mean_absolute_error,r2_score"
   ]
  },
  {
   "cell_type": "code",
   "execution_count": null,
   "id": "95a1714f",
   "metadata": {
    "id": "95a1714f"
   },
   "outputs": [],
   "source": [
    "def eval_model(ytest,ypred):\n",
    "    mae = mean_absolute_error(ytest,ypred)\n",
    "    mse = mean_squared_error(ytest,ypred)\n",
    "    rmse = np.sqrt(mse)\n",
    "    r2s = r2_score(ytest,ypred)\n",
    "    print('MAE',mae)\n",
    "    print('MSE',mse)\n",
    "    print('RMSE',rmse)\n",
    "    print('R2 Score',r2s)"
   ]
  },
  {
   "cell_type": "markdown",
   "id": "a8339ba7",
   "metadata": {},
   "source": [
    "# Import ML model building libraries"
   ]
  },
  {
   "cell_type": "code",
   "execution_count": null,
   "id": "f512940c",
   "metadata": {
    "id": "f512940c"
   },
   "outputs": [],
   "source": [
    "from sklearn.linear_model import LinearRegression, Ridge, Lasso\n",
    "from sklearn.ensemble import RandomForestRegressor, AdaBoostRegressor\n",
    "from sklearn.tree import DecisionTreeRegressor\n",
    "from sklearn.neighbors import KNeighborsRegressor\n",
    "from sklearn.preprocessing import OneHotEncoder\n",
    "from sklearn.compose import ColumnTransformer\n",
    "from sklearn.pipeline import Pipeline\n",
    "from sklearn.preprocessing import OneHotEncoder\n",
    "from sklearn.metrics import accuracy_score, classification_report\n"
   ]
  },
  {
   "cell_type": "code",
   "execution_count": null,
   "id": "1177724d",
   "metadata": {},
   "outputs": [],
   "source": [
    "# Major Import\n",
    "from sklearn.metrics import classification_report\n",
    "from imblearn.over_sampling import RandomOverSampler\n",
    "from sklearn.ensemble import RandomForestClassifier\n",
    "from sklearn.metrics import accuracy_score\n",
    "from sklearn.metrics import r2_score\n",
    "from sklearn.preprocessing import OneHotEncoder\n",
    "from sklearn.compose import make_column_transformer\n",
    "from sklearn.metrics import confusion_matrix, ConfusionMatrixDisplay"
   ]
  },
  {
   "cell_type": "code",
   "execution_count": 106,
   "id": "2b10925d",
   "metadata": {
    "colab": {
     "base_uri": "https://localhost:8080/"
    },
    "id": "2b10925d",
    "outputId": "d3052d91-a884-4405-aff2-18475662aac9"
   },
   "outputs": [
    {
     "data": {
      "text/plain": [
       "Brand_name      object\n",
       "year             int64\n",
       "km_driven        int64\n",
       "fuel            object\n",
       "seller_type     object\n",
       "transmission    object\n",
       "owner           object\n",
       "dtype: object"
      ]
     },
     "execution_count": 106,
     "metadata": {},
     "output_type": "execute_result"
    }
   ],
   "source": [
    "x_train.dtypes"
   ]
  },
  {
   "cell_type": "markdown",
   "id": "ad2951f4",
   "metadata": {},
   "source": [
    "# Columns index that needs to undergo OneHotEncoding - [0,2,3,4,5]"
   ]
  },
  {
   "cell_type": "markdown",
   "id": "577f73e6",
   "metadata": {},
   "source": [
    "#1) LinearRegression"
   ]
  },
  {
   "cell_type": "code",
   "execution_count": 107,
   "id": "31b417f5",
   "metadata": {
    "colab": {
     "base_uri": "https://localhost:8080/"
    },
    "id": "31b417f5",
    "outputId": "382be64c-907c-4346-8428-7b8e09ba7ef7"
   },
   "outputs": [
    {
     "name": "stdout",
     "output_type": "stream",
     "text": [
      "MAE 176448.12144927276\n",
      "MSE 87302377380.90312\n",
      "RMSE 295469.7571341323\n",
      "R2 Score 0.7631850355316975\n"
     ]
    }
   ],
   "source": [
    "step1 = ColumnTransformer(transformers=[('ohe',OneHotEncoder(handle_unknown = 'ignore',categories='auto',\n",
    "                                                             sparse_output=False),[0,3,4,5,6])],remainder='passthrough')\n",
    "\n",
    "step2 = LinearRegression()\n",
    "pipe_lr = Pipeline([('step1',step1),('step2',step2)])\n",
    "pipe_lr.fit(x_train,y_train)\n",
    "ypred_lr = pipe_lr.predict(x_test)\n",
    "eval_model(y_test,ypred_lr)"
   ]
  },
  {
   "cell_type": "code",
   "execution_count": 108,
   "id": "b6bfe823",
   "metadata": {},
   "outputs": [
    {
     "name": "stdout",
     "output_type": "stream",
     "text": [
      "-364592279879.3239 0\n",
      "0.746701773307624 1\n",
      "0.6990548379456298 2\n",
      "0.6508489695127679 3\n",
      "-10668994334651.03 4\n",
      "-7157633084453.783 5\n",
      "0.7256263251750175 6\n",
      "0.7042009408278064 7\n",
      "-3027885844929.136 8\n",
      "-2331405449052.9946 9\n",
      "-20830022562694.645 10\n",
      "-458165659251.8759 11\n",
      "-8368603005.568767 12\n",
      "-1680119384532.2852 13\n",
      "-2987414382901.264 14\n",
      "0.7059536256134191 15\n",
      "-7118720480433.158 16\n",
      "-274185141442.13257 17\n",
      "-1203753290268.5833 18\n",
      "0.6732677056409488 19\n",
      "0.6757677041471434 20\n",
      "-15277884191.55782 21\n",
      "-6719865216126.586 22\n",
      "0.666154973653266 23\n",
      "-14245688278704.8 24\n",
      "0.7560281107407141 25\n",
      "-1674550256102.74 26\n",
      "-40324296323.28431 27\n",
      "0.6542901780151913 28\n",
      "0.6515117413384081 29\n",
      "-336049836841.2593 30\n",
      "-127778394668.60887 31\n",
      "-1347539511646.1511 32\n",
      "-185538849066.70224 33\n",
      "0.659504799689052 34\n",
      "-14357160210472.342 35\n",
      "-1616560003514.8276 36\n",
      "0.6810791268499927 37\n",
      "-244656532371.0003 38\n",
      "-3145770865175.8174 39\n",
      "0.688117663709316 40\n",
      "-1694774655407.0576 41\n",
      "-9261790262368.805 42\n",
      "-338738404920.10095 43\n",
      "0.7319667957373339 44\n",
      "-2080566344590.9377 45\n",
      "-10119163116899.217 46\n",
      "0.6628428892821485 47\n",
      "0.6764109398179321 48\n",
      "0.7250476481586452 49\n",
      "-3208180150964.148 50\n",
      "0.7360009096888467 51\n",
      "-194464369880654.94 52\n",
      "-27644523079422.73 53\n",
      "-405620257.36214006 54\n",
      "-614121436808.5448 55\n",
      "-3893579412692.7812 56\n",
      "0.634783894216106 57\n",
      "-21109709349046.562 58\n",
      "0.7631850355316975 59\n",
      "0.6889439263502608 60\n",
      "0.6906234389357514 61\n",
      "-3514411725.236932 62\n",
      "-1553461694978.07 63\n",
      "0.6651388263905569 64\n",
      "0.6730148537836544 65\n",
      "-61057124112149.65 66\n",
      "-33776682779758.51 67\n",
      "-1063087598612.5377 68\n",
      "-1730227408782.525 69\n",
      "0.5897064235809104 70\n",
      "0.7161869463293458 71\n",
      "-190543751505.0706 72\n",
      "-412105543209.5683 73\n",
      "-262324667.3071164 74\n",
      "0.6934194669559082 75\n",
      "0.6887240652588839 76\n",
      "0.7243922996972557 77\n",
      "-383288614986.09924 78\n",
      "-15491500221728.635 79\n",
      "-3592969522233.023 80\n",
      "-243516019.06016243 81\n",
      "-674550773998.0073 82\n",
      "-4454733177776.649 83\n",
      "0.6537060016720561 84\n",
      "-843424706.0944109 85\n",
      "-212584117804.3567 86\n",
      "-2599332557.861812 87\n",
      "-1048554497680.0802 88\n",
      "-773148692529.5441 89\n",
      "0.7107084535764345 90\n",
      "0.6890638607608197 91\n",
      "0.6184818142172167 92\n",
      "-2006119063471.3406 93\n",
      "-2142903258545.3088 94\n",
      "0.6483391497920199 95\n",
      "-986962690797.7644 96\n",
      "0.6262548883225336 97\n",
      "0.7219074372845199 98\n",
      "-62724791111.97538 99\n",
      "-21128636270633.344 100\n",
      "-164180502867.89383 101\n",
      "0.6837286024438125 102\n",
      "0.7229747419925396 103\n",
      "-36106184792757.15 104\n",
      "-13770281675653.273 105\n",
      "0.6514956172064355 106\n",
      "0.7160602678103893 107\n",
      "-9103183932725.441 108\n",
      "0.6992441472643887 109\n",
      "-579368425.8109057 110\n",
      "-5637912510928.918 111\n",
      "-2374730904116.277 112\n",
      "-191063770519.3226 113\n",
      "0.6743937652135925 114\n",
      "0.7206750980019822 115\n",
      "0.7428098040155948 116\n",
      "-2460365259.5550947 117\n",
      "-683591844279.976 118\n",
      "-749276118863.9995 119\n",
      "-64406192817.359825 120\n",
      "-225743.0713643417 121\n",
      "-67256765200991.6 122\n",
      "0.5780666327138272 123\n",
      "-3817048355073.41 124\n",
      "-7894453580139.6455 125\n",
      "-5786060400981.278 126\n",
      "-687908344544.0851 127\n",
      "0.7155329054238265 128\n",
      "-892175136832.0461 129\n",
      "-243650015268569.25 130\n",
      "0.699630542013812 131\n",
      "0.6608527375012215 132\n",
      "0.6113678035339802 133\n",
      "0.6766159431397454 134\n",
      "-7496707734536.915 135\n",
      "-2885677806065.4624 136\n",
      "-648371723084.1027 137\n",
      "-3191017747876.947 138\n",
      "0.6704723229475871 139\n",
      "-216823943888.91953 140\n",
      "0.5687075151915129 141\n",
      "-3516775633311.908 142\n",
      "0.6199011994456871 143\n",
      "0.6558510030646656 144\n",
      "0.6957176604732545 145\n",
      "-149075702237059.16 146\n",
      "0.6444359822861154 147\n",
      "-58674896499995.35 148\n",
      "-45806354053.18959 149\n",
      "0.6500532728075565 150\n",
      "-228896272130.41446 151\n",
      "-9820308622.860508 152\n",
      "0.5915634512066356 153\n",
      "0.5765500219165556 154\n",
      "-18849530439.68827 155\n",
      "-118289898191.573 156\n",
      "0.688380576417763 157\n",
      "-135137719577.88428 158\n",
      "-880441859598.007 159\n",
      "-2297276187225.9917 160\n",
      "-2813615337227.0625 161\n",
      "-5174168442136.353 162\n",
      "-1194698951258.4407 163\n",
      "0.7152313867282545 164\n",
      "-3131895200955.214 165\n",
      "0.6947720081804727 166\n",
      "-2538098040027.6035 167\n",
      "0.6898167795608949 168\n",
      "-6195173783449.517 169\n",
      "-13931034106719.156 170\n",
      "-3327678950169.3696 171\n",
      "-11664617966737.709 172\n",
      "0.6859287590740883 173\n",
      "-371418812379.57056 174\n",
      "0.6409873298910413 175\n",
      "-55440929645.326 176\n",
      "-2593023258611.735 177\n",
      "-810671121493.7589 178\n",
      "-370040077450.88934 179\n",
      "-1725815344524.0388 180\n",
      "-23573858873.639412 181\n",
      "-73246754348786.73 182\n",
      "-132859646767.76 183\n",
      "-24428300352865.234 184\n",
      "-6828200122869.168 185\n",
      "-27381261837.07568 186\n",
      "-297547076833.79346 187\n",
      "-943356738870.8137 188\n",
      "-1144734133813.0632 189\n",
      "-5989079716443.881 190\n",
      "0.6349511636157512 191\n",
      "-467852671874.4719 192\n",
      "-16009801280882.074 193\n",
      "0.7035744805579776 194\n",
      "-798933487133.5442 195\n",
      "-29073370492423.387 196\n",
      "0.7105010146074386 197\n",
      "-2073953527546.1257 198\n",
      "-2832105417428.538 199\n"
     ]
    }
   ],
   "source": [
    "scores=[]\n",
    "for i in range(200):\n",
    "    x_train,x_test, y_train,y_test=train_test_split(x,y,test_size = 0.2, random_state=i)\n",
    "    stap2 = LinearRegression()\n",
    "    pipe_lr = Pipeline([('step1',step1),('step2',step2)])\n",
    "    pipe_lr.fit(x_train, y_train)\n",
    "    y_pred=pipe_lr.predict(x_test)\n",
    "    scores.append(r2_score(y_test,y_pred))\n",
    "    print(r2_score(y_test,y_pred), i)"
   ]
  },
  {
   "cell_type": "code",
   "execution_count": 109,
   "id": "cb70a687",
   "metadata": {},
   "outputs": [
    {
     "data": {
      "text/plain": [
       "0.7631850355316975"
      ]
     },
     "execution_count": 109,
     "metadata": {},
     "output_type": "execute_result"
    }
   ],
   "source": [
    "scores[np.argmax(scores)]"
   ]
  },
  {
   "cell_type": "code",
   "execution_count": null,
   "id": "8747fd04",
   "metadata": {},
   "outputs": [],
   "source": [
    "#2) Ridge Regression "
   ]
  },
  {
   "cell_type": "code",
   "execution_count": 98,
   "id": "d2ee8167",
   "metadata": {},
   "outputs": [
    {
     "name": "stdout",
     "output_type": "stream",
     "text": [
      "MAE 184109.50823487603\n",
      "MSE 123050279071.4326\n",
      "RMSE 350785.23211707844\n",
      "R2 Score 0.6565662640862407\n"
     ]
    }
   ],
   "source": [
    "step1 = ColumnTransformer(transformers=[('ohe',OneHotEncoder(handle_unknown = 'ignore',categories='auto',\n",
    "                                                             sparse_output=False),[0,3,4,5,6])],remainder='passthrough')\n",
    "step2 = Ridge(alpha=2.41)\n",
    "pipe_rid = Pipeline([('step1',step1),('step2',step2)])\n",
    "pipe_rid.fit(x_train,y_train)\n",
    "ypred_rid = pipe_rid.predict(x_test)\n",
    "eval_model(y_test,ypred_rid)"
   ]
  },
  {
   "cell_type": "code",
   "execution_count": null,
   "id": "002571da",
   "metadata": {},
   "outputs": [],
   "source": [
    "#3) lasso Regression"
   ]
  },
  {
   "cell_type": "code",
   "execution_count": 99,
   "id": "c771a68e",
   "metadata": {},
   "outputs": [
    {
     "name": "stdout",
     "output_type": "stream",
     "text": [
      "MAE 182399.2581409115\n",
      "MSE 123715452466.71156\n",
      "RMSE 351732.07483354653\n",
      "R2 Score 0.6547097629397584\n"
     ]
    },
    {
     "name": "stderr",
     "output_type": "stream",
     "text": [
      "C:\\Users\\dell\\anaconda3\\lib\\site-packages\\sklearn\\linear_model\\_coordinate_descent.py:631: ConvergenceWarning: Objective did not converge. You might want to increase the number of iterations, check the scale of the features or consider increasing regularisation. Duality gap: 4.127e+13, tolerance: 1.141e+11\n",
      "  model = cd_fast.enet_coordinate_descent(\n"
     ]
    }
   ],
   "source": [
    "step1 = ColumnTransformer(transformers=[('ohe',OneHotEncoder(handle_unknown = 'ignore',categories='auto',\n",
    "                                                             sparse_output=False),[0,3,4,5,6])],remainder='passthrough')\n",
    "step2 = Lasso(alpha=0.234)\n",
    "pipe_las = Pipeline([('step1',step1),('step2',step2)])\n",
    "pipe_las.fit(x_train,y_train)\n",
    "ypred_las = pipe_las.predict(x_test)\n",
    "eval_model(y_test,ypred_las)"
   ]
  },
  {
   "cell_type": "code",
   "execution_count": null,
   "id": "302dbcb8",
   "metadata": {},
   "outputs": [],
   "source": [
    "#4)  RandomForestRegression"
   ]
  },
  {
   "cell_type": "code",
   "execution_count": 100,
   "id": "e625ba2b",
   "metadata": {},
   "outputs": [
    {
     "name": "stdout",
     "output_type": "stream",
     "text": [
      "MAE 143328.7480174286\n",
      "MSE 76045920391.97041\n",
      "RMSE 275764.2478494455\n",
      "R2 Score 0.7877555846415143\n"
     ]
    }
   ],
   "source": [
    "step1 = ColumnTransformer(transformers=[('ohe',OneHotEncoder(handle_unknown = 'ignore',categories='auto',\n",
    "                                                             sparse_output=False),[0,3,4,5,6])],remainder='passthrough')\n",
    "step2 = RandomForestRegressor(n_estimators=100,max_depth=8,min_samples_split=11,random_state=5)\n",
    "pipe_rf = Pipeline([('step1',step1),('step2',step2)])\n",
    "pipe_rf.fit(x_train,y_train)\n",
    "ypred_rf = pipe_rf.predict(x_test)\n",
    "eval_model(y_test,ypred_rf)"
   ]
  },
  {
   "cell_type": "code",
   "execution_count": null,
   "id": "ade2127d",
   "metadata": {},
   "outputs": [],
   "source": [
    "#5)DecisionTreeRegression"
   ]
  },
  {
   "cell_type": "code",
   "execution_count": 101,
   "id": "a2cb4a9c",
   "metadata": {},
   "outputs": [
    {
     "name": "stdout",
     "output_type": "stream",
     "text": [
      "MAE 154973.41388775114\n",
      "MSE 96304411008.33916\n",
      "RMSE 310329.52004013275\n",
      "R2 Score 0.7312140703202469\n"
     ]
    }
   ],
   "source": [
    "step1 = ColumnTransformer(transformers=[('ohe',OneHotEncoder(handle_unknown = 'ignore',categories='auto',\n",
    "                                                             sparse_output=False),[0,3,4,5,6])],remainder='passthrough')\n",
    "step2 = DecisionTreeRegressor(max_depth=8,min_samples_split=11,random_state=5)\n",
    "pipe_dt = Pipeline([('step1',step1),('step2',step2)])\n",
    "pipe_dt.fit(x_train,y_train)\n",
    "ypred_dt = pipe_dt.predict(x_test)\n",
    "eval_model(y_test,ypred_dt)"
   ]
  },
  {
   "cell_type": "markdown",
   "id": "2a5f64de",
   "metadata": {},
   "source": [
    "# Random Forrest model is best performing model in terms of RMSE value"
   ]
  },
  {
   "cell_type": "code",
   "execution_count": 69,
   "id": "BAB-yQhkzopv",
   "metadata": {
    "colab": {
     "base_uri": "https://localhost:8080/"
    },
    "id": "BAB-yQhkzopv",
    "outputId": "5406b5f0-423e-46c3-d6be-f3ff6c12c513"
   },
   "outputs": [
    {
     "name": "stdout",
     "output_type": "stream",
     "text": [
      "<class 'pandas.core.frame.DataFrame'>\n"
     ]
    }
   ],
   "source": [
    "print(type(x_test))"
   ]
  },
  {
   "cell_type": "code",
   "execution_count": 70,
   "id": "dgWkIOLVzzeA",
   "metadata": {
    "id": "dgWkIOLVzzeA"
   },
   "outputs": [],
   "source": [
    "import pickle"
   ]
  },
  {
   "cell_type": "code",
   "execution_count": 71,
   "id": "O1qpgiRPz7_D",
   "metadata": {
    "id": "O1qpgiRPz7_D"
   },
   "outputs": [],
   "source": [
    "# Save object to a pickle file\n",
    "with open(\"pipeline_lr.pkl\", \"wb\") as file:\n",
    "    pickle.dump(pipe_lr, file)\n",
    "\n",
    "# Load object from pickle file\n",
    "with open(\"pipeline_lr.pkl\", \"rb\") as file:\n",
    "    loaded_object = pickle.load(file)\n"
   ]
  },
  {
   "cell_type": "code",
   "execution_count": 72,
   "id": "ubF2R6DS0b_v",
   "metadata": {
    "colab": {
     "base_uri": "https://localhost:8080/"
    },
    "id": "ubF2R6DS0b_v",
    "outputId": "7b4c08b3-82f0-4c98-cd26-c5b85da20b79"
   },
   "outputs": [
    {
     "name": "stdout",
     "output_type": "stream",
     "text": [
      "<class 'sklearn.pipeline.Pipeline'>\n"
     ]
    }
   ],
   "source": [
    "print(type(loaded_object))"
   ]
  },
  {
   "cell_type": "code",
   "execution_count": 73,
   "id": "rfGjFMQJ0jyn",
   "metadata": {
    "id": "rfGjFMQJ0jyn"
   },
   "outputs": [],
   "source": [
    "pickle.dump(df,open('car_details_data.pkl','wb'))"
   ]
  },
  {
   "cell_type": "code",
   "execution_count": 74,
   "id": "TTYDFh_C0nUC",
   "metadata": {
    "id": "TTYDFh_C0nUC"
   },
   "outputs": [],
   "source": [
    "# Save the pipeline object to a file\n",
    "with open('pipeline_lr.pkl', 'wb') as f:\n",
    "    pickle.dump(pipe_lr, f)"
   ]
  },
  {
   "cell_type": "code",
   "execution_count": 75,
   "id": "UflPHDgC0umI",
   "metadata": {
    "id": "UflPHDgC0umI"
   },
   "outputs": [],
   "source": [
    "loaded_model = pickle.load(open('pipeline_lr.pkl','rb'))"
   ]
  },
  {
   "cell_type": "code",
   "execution_count": 76,
   "id": "L4YFLKp800_w",
   "metadata": {
    "id": "L4YFLKp800_w"
   },
   "outputs": [],
   "source": [
    "# Load the saved pipeline object from the file\n",
    "with open('pipeline_lr.pkl', 'rb') as f:\n",
    "    loaded_pipeline = pickle.load(f)"
   ]
  },
  {
   "cell_type": "code",
   "execution_count": 77,
   "id": "cZw_jXKD07uE",
   "metadata": {
    "colab": {
     "base_uri": "https://localhost:8080/",
     "height": 676
    },
    "id": "cZw_jXKD07uE",
    "outputId": "e8b9ca90-20b1-4065-c763-753badcf6f78"
   },
   "outputs": [
    {
     "data": {
      "text/html": [
       "<div>\n",
       "<style scoped>\n",
       "    .dataframe tbody tr th:only-of-type {\n",
       "        vertical-align: middle;\n",
       "    }\n",
       "\n",
       "    .dataframe tbody tr th {\n",
       "        vertical-align: top;\n",
       "    }\n",
       "\n",
       "    .dataframe thead th {\n",
       "        text-align: right;\n",
       "    }\n",
       "</style>\n",
       "<table border=\"1\" class=\"dataframe\">\n",
       "  <thead>\n",
       "    <tr style=\"text-align: right;\">\n",
       "      <th></th>\n",
       "      <th>Brand_name</th>\n",
       "      <th>year</th>\n",
       "      <th>km_driven</th>\n",
       "      <th>fuel</th>\n",
       "      <th>seller_type</th>\n",
       "      <th>transmission</th>\n",
       "      <th>owner</th>\n",
       "    </tr>\n",
       "  </thead>\n",
       "  <tbody>\n",
       "    <tr>\n",
       "      <th>1154</th>\n",
       "      <td>Hyundai</td>\n",
       "      <td>2015</td>\n",
       "      <td>32000</td>\n",
       "      <td>Petrol</td>\n",
       "      <td>Dealer</td>\n",
       "      <td>Manual</td>\n",
       "      <td>First Owner</td>\n",
       "    </tr>\n",
       "    <tr>\n",
       "      <th>3619</th>\n",
       "      <td>Tata</td>\n",
       "      <td>2017</td>\n",
       "      <td>25000</td>\n",
       "      <td>Petrol</td>\n",
       "      <td>Individual</td>\n",
       "      <td>Manual</td>\n",
       "      <td>First Owner</td>\n",
       "    </tr>\n",
       "    <tr>\n",
       "      <th>3071</th>\n",
       "      <td>Maruti</td>\n",
       "      <td>2009</td>\n",
       "      <td>190000</td>\n",
       "      <td>Diesel</td>\n",
       "      <td>Individual</td>\n",
       "      <td>Manual</td>\n",
       "      <td>Third Owner</td>\n",
       "    </tr>\n",
       "    <tr>\n",
       "      <th>2092</th>\n",
       "      <td>Maruti</td>\n",
       "      <td>2016</td>\n",
       "      <td>30000</td>\n",
       "      <td>CNG</td>\n",
       "      <td>Individual</td>\n",
       "      <td>Manual</td>\n",
       "      <td>Second Owner</td>\n",
       "    </tr>\n",
       "    <tr>\n",
       "      <th>4288</th>\n",
       "      <td>Maruti</td>\n",
       "      <td>2008</td>\n",
       "      <td>120000</td>\n",
       "      <td>Petrol</td>\n",
       "      <td>Individual</td>\n",
       "      <td>Manual</td>\n",
       "      <td>Third Owner</td>\n",
       "    </tr>\n",
       "    <tr>\n",
       "      <th>2987</th>\n",
       "      <td>Hyundai</td>\n",
       "      <td>2004</td>\n",
       "      <td>58000</td>\n",
       "      <td>Petrol</td>\n",
       "      <td>Individual</td>\n",
       "      <td>Manual</td>\n",
       "      <td>First Owner</td>\n",
       "    </tr>\n",
       "    <tr>\n",
       "      <th>685</th>\n",
       "      <td>Maruti</td>\n",
       "      <td>2013</td>\n",
       "      <td>38000</td>\n",
       "      <td>Petrol</td>\n",
       "      <td>Individual</td>\n",
       "      <td>Manual</td>\n",
       "      <td>First Owner</td>\n",
       "    </tr>\n",
       "    <tr>\n",
       "      <th>3433</th>\n",
       "      <td>Ford</td>\n",
       "      <td>2014</td>\n",
       "      <td>100000</td>\n",
       "      <td>Diesel</td>\n",
       "      <td>Individual</td>\n",
       "      <td>Manual</td>\n",
       "      <td>Second Owner</td>\n",
       "    </tr>\n",
       "    <tr>\n",
       "      <th>152</th>\n",
       "      <td>Hyundai</td>\n",
       "      <td>2008</td>\n",
       "      <td>53772</td>\n",
       "      <td>Petrol</td>\n",
       "      <td>Individual</td>\n",
       "      <td>Manual</td>\n",
       "      <td>First Owner</td>\n",
       "    </tr>\n",
       "    <tr>\n",
       "      <th>3249</th>\n",
       "      <td>Honda</td>\n",
       "      <td>2016</td>\n",
       "      <td>90000</td>\n",
       "      <td>Diesel</td>\n",
       "      <td>Individual</td>\n",
       "      <td>Manual</td>\n",
       "      <td>First Owner</td>\n",
       "    </tr>\n",
       "    <tr>\n",
       "      <th>3309</th>\n",
       "      <td>Maruti</td>\n",
       "      <td>2014</td>\n",
       "      <td>90000</td>\n",
       "      <td>Petrol</td>\n",
       "      <td>Individual</td>\n",
       "      <td>Manual</td>\n",
       "      <td>Second Owner</td>\n",
       "    </tr>\n",
       "    <tr>\n",
       "      <th>3672</th>\n",
       "      <td>Hyundai</td>\n",
       "      <td>2008</td>\n",
       "      <td>60000</td>\n",
       "      <td>Petrol</td>\n",
       "      <td>Individual</td>\n",
       "      <td>Manual</td>\n",
       "      <td>Second Owner</td>\n",
       "    </tr>\n",
       "    <tr>\n",
       "      <th>2799</th>\n",
       "      <td>Honda</td>\n",
       "      <td>2017</td>\n",
       "      <td>15000</td>\n",
       "      <td>Petrol</td>\n",
       "      <td>Individual</td>\n",
       "      <td>Manual</td>\n",
       "      <td>First Owner</td>\n",
       "    </tr>\n",
       "    <tr>\n",
       "      <th>4253</th>\n",
       "      <td>Maruti</td>\n",
       "      <td>2017</td>\n",
       "      <td>60000</td>\n",
       "      <td>Diesel</td>\n",
       "      <td>Individual</td>\n",
       "      <td>Manual</td>\n",
       "      <td>Second Owner</td>\n",
       "    </tr>\n",
       "    <tr>\n",
       "      <th>655</th>\n",
       "      <td>Mahindra</td>\n",
       "      <td>2008</td>\n",
       "      <td>25000</td>\n",
       "      <td>Petrol</td>\n",
       "      <td>Individual</td>\n",
       "      <td>Manual</td>\n",
       "      <td>First Owner</td>\n",
       "    </tr>\n",
       "    <tr>\n",
       "      <th>1135</th>\n",
       "      <td>Skoda</td>\n",
       "      <td>2012</td>\n",
       "      <td>85000</td>\n",
       "      <td>Diesel</td>\n",
       "      <td>Individual</td>\n",
       "      <td>Manual</td>\n",
       "      <td>Second Owner</td>\n",
       "    </tr>\n",
       "    <tr>\n",
       "      <th>823</th>\n",
       "      <td>Fiat</td>\n",
       "      <td>2015</td>\n",
       "      <td>130000</td>\n",
       "      <td>Diesel</td>\n",
       "      <td>Individual</td>\n",
       "      <td>Manual</td>\n",
       "      <td>First Owner</td>\n",
       "    </tr>\n",
       "    <tr>\n",
       "      <th>2398</th>\n",
       "      <td>Maruti</td>\n",
       "      <td>2007</td>\n",
       "      <td>100000</td>\n",
       "      <td>Petrol</td>\n",
       "      <td>Individual</td>\n",
       "      <td>Manual</td>\n",
       "      <td>Second Owner</td>\n",
       "    </tr>\n",
       "    <tr>\n",
       "      <th>1935</th>\n",
       "      <td>Mahindra</td>\n",
       "      <td>2018</td>\n",
       "      <td>30000</td>\n",
       "      <td>Petrol</td>\n",
       "      <td>Individual</td>\n",
       "      <td>Manual</td>\n",
       "      <td>Second Owner</td>\n",
       "    </tr>\n",
       "    <tr>\n",
       "      <th>3958</th>\n",
       "      <td>Mahindra</td>\n",
       "      <td>2018</td>\n",
       "      <td>70000</td>\n",
       "      <td>Diesel</td>\n",
       "      <td>Individual</td>\n",
       "      <td>Manual</td>\n",
       "      <td>First Owner</td>\n",
       "    </tr>\n",
       "  </tbody>\n",
       "</table>\n",
       "</div>"
      ],
      "text/plain": [
       "     Brand_name  year  km_driven    fuel seller_type transmission  \\\n",
       "1154    Hyundai  2015      32000  Petrol      Dealer       Manual   \n",
       "3619       Tata  2017      25000  Petrol  Individual       Manual   \n",
       "3071     Maruti  2009     190000  Diesel  Individual       Manual   \n",
       "2092     Maruti  2016      30000     CNG  Individual       Manual   \n",
       "4288     Maruti  2008     120000  Petrol  Individual       Manual   \n",
       "2987    Hyundai  2004      58000  Petrol  Individual       Manual   \n",
       "685      Maruti  2013      38000  Petrol  Individual       Manual   \n",
       "3433       Ford  2014     100000  Diesel  Individual       Manual   \n",
       "152     Hyundai  2008      53772  Petrol  Individual       Manual   \n",
       "3249      Honda  2016      90000  Diesel  Individual       Manual   \n",
       "3309     Maruti  2014      90000  Petrol  Individual       Manual   \n",
       "3672    Hyundai  2008      60000  Petrol  Individual       Manual   \n",
       "2799      Honda  2017      15000  Petrol  Individual       Manual   \n",
       "4253     Maruti  2017      60000  Diesel  Individual       Manual   \n",
       "655    Mahindra  2008      25000  Petrol  Individual       Manual   \n",
       "1135      Skoda  2012      85000  Diesel  Individual       Manual   \n",
       "823        Fiat  2015     130000  Diesel  Individual       Manual   \n",
       "2398     Maruti  2007     100000  Petrol  Individual       Manual   \n",
       "1935   Mahindra  2018      30000  Petrol  Individual       Manual   \n",
       "3958   Mahindra  2018      70000  Diesel  Individual       Manual   \n",
       "\n",
       "             owner  \n",
       "1154   First Owner  \n",
       "3619   First Owner  \n",
       "3071   Third Owner  \n",
       "2092  Second Owner  \n",
       "4288   Third Owner  \n",
       "2987   First Owner  \n",
       "685    First Owner  \n",
       "3433  Second Owner  \n",
       "152    First Owner  \n",
       "3249   First Owner  \n",
       "3309  Second Owner  \n",
       "3672  Second Owner  \n",
       "2799   First Owner  \n",
       "4253  Second Owner  \n",
       "655    First Owner  \n",
       "1135  Second Owner  \n",
       "823    First Owner  \n",
       "2398  Second Owner  \n",
       "1935  Second Owner  \n",
       "3958   First Owner  "
      ]
     },
     "execution_count": 77,
     "metadata": {},
     "output_type": "execute_result"
    }
   ],
   "source": [
    "new_df = x.sample(20)\n",
    "new_df"
   ]
  },
  {
   "cell_type": "code",
   "execution_count": 78,
   "id": "tO7W4Ycq1EVd",
   "metadata": {
    "colab": {
     "base_uri": "https://localhost:8080/"
    },
    "id": "tO7W4Ycq1EVd",
    "outputId": "1c74c47d-4d54-412a-e2e7-452a82c9f454"
   },
   "outputs": [
    {
     "name": "stdout",
     "output_type": "stream",
     "text": [
      "<class 'sklearn.pipeline.Pipeline'>\n"
     ]
    }
   ],
   "source": [
    "print(type(loaded_pipeline))"
   ]
  },
  {
   "cell_type": "code",
   "execution_count": 79,
   "id": "eXMVukvL1HlA",
   "metadata": {
    "id": "eXMVukvL1HlA"
   },
   "outputs": [],
   "source": [
    "predict_price = loaded_pipeline.predict(new_df)"
   ]
  },
  {
   "cell_type": "code",
   "execution_count": 80,
   "id": "BWaTYTbx1K-w",
   "metadata": {
    "colab": {
     "base_uri": "https://localhost:8080/",
     "height": 676
    },
    "id": "BWaTYTbx1K-w",
    "outputId": "fe7833f3-bde3-4d6e-eae7-03b59fab55ff"
   },
   "outputs": [
    {
     "data": {
      "text/html": [
       "<div>\n",
       "<style scoped>\n",
       "    .dataframe tbody tr th:only-of-type {\n",
       "        vertical-align: middle;\n",
       "    }\n",
       "\n",
       "    .dataframe tbody tr th {\n",
       "        vertical-align: top;\n",
       "    }\n",
       "\n",
       "    .dataframe thead th {\n",
       "        text-align: right;\n",
       "    }\n",
       "</style>\n",
       "<table border=\"1\" class=\"dataframe\">\n",
       "  <thead>\n",
       "    <tr style=\"text-align: right;\">\n",
       "      <th></th>\n",
       "      <th>Brand_name</th>\n",
       "      <th>year</th>\n",
       "      <th>km_driven</th>\n",
       "      <th>fuel</th>\n",
       "      <th>seller_type</th>\n",
       "      <th>transmission</th>\n",
       "      <th>owner</th>\n",
       "      <th>predict_price</th>\n",
       "    </tr>\n",
       "  </thead>\n",
       "  <tbody>\n",
       "    <tr>\n",
       "      <th>1154</th>\n",
       "      <td>Hyundai</td>\n",
       "      <td>2015</td>\n",
       "      <td>32000</td>\n",
       "      <td>Petrol</td>\n",
       "      <td>Dealer</td>\n",
       "      <td>Manual</td>\n",
       "      <td>First Owner</td>\n",
       "      <td>456108.701172</td>\n",
       "    </tr>\n",
       "    <tr>\n",
       "      <th>3619</th>\n",
       "      <td>Tata</td>\n",
       "      <td>2017</td>\n",
       "      <td>25000</td>\n",
       "      <td>Petrol</td>\n",
       "      <td>Individual</td>\n",
       "      <td>Manual</td>\n",
       "      <td>First Owner</td>\n",
       "      <td>404248.425781</td>\n",
       "    </tr>\n",
       "    <tr>\n",
       "      <th>3071</th>\n",
       "      <td>Maruti</td>\n",
       "      <td>2009</td>\n",
       "      <td>190000</td>\n",
       "      <td>Diesel</td>\n",
       "      <td>Individual</td>\n",
       "      <td>Manual</td>\n",
       "      <td>Third Owner</td>\n",
       "      <td>129852.560547</td>\n",
       "    </tr>\n",
       "    <tr>\n",
       "      <th>2092</th>\n",
       "      <td>Maruti</td>\n",
       "      <td>2016</td>\n",
       "      <td>30000</td>\n",
       "      <td>CNG</td>\n",
       "      <td>Individual</td>\n",
       "      <td>Manual</td>\n",
       "      <td>Second Owner</td>\n",
       "      <td>389854.460938</td>\n",
       "    </tr>\n",
       "    <tr>\n",
       "      <th>4288</th>\n",
       "      <td>Maruti</td>\n",
       "      <td>2008</td>\n",
       "      <td>120000</td>\n",
       "      <td>Petrol</td>\n",
       "      <td>Individual</td>\n",
       "      <td>Manual</td>\n",
       "      <td>Third Owner</td>\n",
       "      <td>-5274.982422</td>\n",
       "    </tr>\n",
       "    <tr>\n",
       "      <th>2987</th>\n",
       "      <td>Hyundai</td>\n",
       "      <td>2004</td>\n",
       "      <td>58000</td>\n",
       "      <td>Petrol</td>\n",
       "      <td>Individual</td>\n",
       "      <td>Manual</td>\n",
       "      <td>First Owner</td>\n",
       "      <td>14940.375000</td>\n",
       "    </tr>\n",
       "    <tr>\n",
       "      <th>685</th>\n",
       "      <td>Maruti</td>\n",
       "      <td>2013</td>\n",
       "      <td>38000</td>\n",
       "      <td>Petrol</td>\n",
       "      <td>Individual</td>\n",
       "      <td>Manual</td>\n",
       "      <td>First Owner</td>\n",
       "      <td>330082.759766</td>\n",
       "    </tr>\n",
       "    <tr>\n",
       "      <th>3433</th>\n",
       "      <td>Ford</td>\n",
       "      <td>2014</td>\n",
       "      <td>100000</td>\n",
       "      <td>Diesel</td>\n",
       "      <td>Individual</td>\n",
       "      <td>Manual</td>\n",
       "      <td>Second Owner</td>\n",
       "      <td>517253.572266</td>\n",
       "    </tr>\n",
       "    <tr>\n",
       "      <th>152</th>\n",
       "      <td>Hyundai</td>\n",
       "      <td>2008</td>\n",
       "      <td>53772</td>\n",
       "      <td>Petrol</td>\n",
       "      <td>Individual</td>\n",
       "      <td>Manual</td>\n",
       "      <td>First Owner</td>\n",
       "      <td>163745.431641</td>\n",
       "    </tr>\n",
       "    <tr>\n",
       "      <th>3249</th>\n",
       "      <td>Honda</td>\n",
       "      <td>2016</td>\n",
       "      <td>90000</td>\n",
       "      <td>Diesel</td>\n",
       "      <td>Individual</td>\n",
       "      <td>Manual</td>\n",
       "      <td>First Owner</td>\n",
       "      <td>655792.859375</td>\n",
       "    </tr>\n",
       "    <tr>\n",
       "      <th>3309</th>\n",
       "      <td>Maruti</td>\n",
       "      <td>2014</td>\n",
       "      <td>90000</td>\n",
       "      <td>Petrol</td>\n",
       "      <td>Individual</td>\n",
       "      <td>Manual</td>\n",
       "      <td>Second Owner</td>\n",
       "      <td>257044.373047</td>\n",
       "    </tr>\n",
       "    <tr>\n",
       "      <th>3672</th>\n",
       "      <td>Hyundai</td>\n",
       "      <td>2008</td>\n",
       "      <td>60000</td>\n",
       "      <td>Petrol</td>\n",
       "      <td>Individual</td>\n",
       "      <td>Manual</td>\n",
       "      <td>Second Owner</td>\n",
       "      <td>105365.240234</td>\n",
       "    </tr>\n",
       "    <tr>\n",
       "      <th>2799</th>\n",
       "      <td>Honda</td>\n",
       "      <td>2017</td>\n",
       "      <td>15000</td>\n",
       "      <td>Petrol</td>\n",
       "      <td>Individual</td>\n",
       "      <td>Manual</td>\n",
       "      <td>First Owner</td>\n",
       "      <td>598263.867188</td>\n",
       "    </tr>\n",
       "    <tr>\n",
       "      <th>4253</th>\n",
       "      <td>Maruti</td>\n",
       "      <td>2017</td>\n",
       "      <td>60000</td>\n",
       "      <td>Diesel</td>\n",
       "      <td>Individual</td>\n",
       "      <td>Manual</td>\n",
       "      <td>Second Owner</td>\n",
       "      <td>574975.542969</td>\n",
       "    </tr>\n",
       "    <tr>\n",
       "      <th>655</th>\n",
       "      <td>Mahindra</td>\n",
       "      <td>2008</td>\n",
       "      <td>25000</td>\n",
       "      <td>Petrol</td>\n",
       "      <td>Individual</td>\n",
       "      <td>Manual</td>\n",
       "      <td>First Owner</td>\n",
       "      <td>289433.082031</td>\n",
       "    </tr>\n",
       "    <tr>\n",
       "      <th>1135</th>\n",
       "      <td>Skoda</td>\n",
       "      <td>2012</td>\n",
       "      <td>85000</td>\n",
       "      <td>Diesel</td>\n",
       "      <td>Individual</td>\n",
       "      <td>Manual</td>\n",
       "      <td>Second Owner</td>\n",
       "      <td>372907.589844</td>\n",
       "    </tr>\n",
       "    <tr>\n",
       "      <th>823</th>\n",
       "      <td>Fiat</td>\n",
       "      <td>2015</td>\n",
       "      <td>130000</td>\n",
       "      <td>Diesel</td>\n",
       "      <td>Individual</td>\n",
       "      <td>Manual</td>\n",
       "      <td>First Owner</td>\n",
       "      <td>402643.451172</td>\n",
       "    </tr>\n",
       "    <tr>\n",
       "      <th>2398</th>\n",
       "      <td>Maruti</td>\n",
       "      <td>2007</td>\n",
       "      <td>100000</td>\n",
       "      <td>Petrol</td>\n",
       "      <td>Individual</td>\n",
       "      <td>Manual</td>\n",
       "      <td>Second Owner</td>\n",
       "      <td>-6244.880859</td>\n",
       "    </tr>\n",
       "    <tr>\n",
       "      <th>1935</th>\n",
       "      <td>Mahindra</td>\n",
       "      <td>2018</td>\n",
       "      <td>30000</td>\n",
       "      <td>Petrol</td>\n",
       "      <td>Individual</td>\n",
       "      <td>Manual</td>\n",
       "      <td>Second Owner</td>\n",
       "      <td>592719.996094</td>\n",
       "    </tr>\n",
       "    <tr>\n",
       "      <th>3958</th>\n",
       "      <td>Mahindra</td>\n",
       "      <td>2018</td>\n",
       "      <td>70000</td>\n",
       "      <td>Diesel</td>\n",
       "      <td>Individual</td>\n",
       "      <td>Manual</td>\n",
       "      <td>First Owner</td>\n",
       "      <td>776522.644531</td>\n",
       "    </tr>\n",
       "  </tbody>\n",
       "</table>\n",
       "</div>"
      ],
      "text/plain": [
       "     Brand_name  year  km_driven    fuel seller_type transmission  \\\n",
       "1154    Hyundai  2015      32000  Petrol      Dealer       Manual   \n",
       "3619       Tata  2017      25000  Petrol  Individual       Manual   \n",
       "3071     Maruti  2009     190000  Diesel  Individual       Manual   \n",
       "2092     Maruti  2016      30000     CNG  Individual       Manual   \n",
       "4288     Maruti  2008     120000  Petrol  Individual       Manual   \n",
       "2987    Hyundai  2004      58000  Petrol  Individual       Manual   \n",
       "685      Maruti  2013      38000  Petrol  Individual       Manual   \n",
       "3433       Ford  2014     100000  Diesel  Individual       Manual   \n",
       "152     Hyundai  2008      53772  Petrol  Individual       Manual   \n",
       "3249      Honda  2016      90000  Diesel  Individual       Manual   \n",
       "3309     Maruti  2014      90000  Petrol  Individual       Manual   \n",
       "3672    Hyundai  2008      60000  Petrol  Individual       Manual   \n",
       "2799      Honda  2017      15000  Petrol  Individual       Manual   \n",
       "4253     Maruti  2017      60000  Diesel  Individual       Manual   \n",
       "655    Mahindra  2008      25000  Petrol  Individual       Manual   \n",
       "1135      Skoda  2012      85000  Diesel  Individual       Manual   \n",
       "823        Fiat  2015     130000  Diesel  Individual       Manual   \n",
       "2398     Maruti  2007     100000  Petrol  Individual       Manual   \n",
       "1935   Mahindra  2018      30000  Petrol  Individual       Manual   \n",
       "3958   Mahindra  2018      70000  Diesel  Individual       Manual   \n",
       "\n",
       "             owner  predict_price  \n",
       "1154   First Owner  456108.701172  \n",
       "3619   First Owner  404248.425781  \n",
       "3071   Third Owner  129852.560547  \n",
       "2092  Second Owner  389854.460938  \n",
       "4288   Third Owner   -5274.982422  \n",
       "2987   First Owner   14940.375000  \n",
       "685    First Owner  330082.759766  \n",
       "3433  Second Owner  517253.572266  \n",
       "152    First Owner  163745.431641  \n",
       "3249   First Owner  655792.859375  \n",
       "3309  Second Owner  257044.373047  \n",
       "3672  Second Owner  105365.240234  \n",
       "2799   First Owner  598263.867188  \n",
       "4253  Second Owner  574975.542969  \n",
       "655    First Owner  289433.082031  \n",
       "1135  Second Owner  372907.589844  \n",
       "823    First Owner  402643.451172  \n",
       "2398  Second Owner   -6244.880859  \n",
       "1935  Second Owner  592719.996094  \n",
       "3958   First Owner  776522.644531  "
      ]
     },
     "execution_count": 80,
     "metadata": {},
     "output_type": "execute_result"
    }
   ],
   "source": [
    "new_df['predict_price']= predict_price\n",
    "new_df.head(20)"
   ]
  },
  {
   "cell_type": "code",
   "execution_count": null,
   "id": "d8c2d9ef",
   "metadata": {},
   "outputs": [],
   "source": []
  }
 ],
 "metadata": {
  "colab": {
   "provenance": []
  },
  "kernelspec": {
   "display_name": "Python 3 (ipykernel)",
   "language": "python",
   "name": "python3"
  },
  "language_info": {
   "codemirror_mode": {
    "name": "ipython",
    "version": 3
   },
   "file_extension": ".py",
   "mimetype": "text/x-python",
   "name": "python",
   "nbconvert_exporter": "python",
   "pygments_lexer": "ipython3",
   "version": "3.9.12"
  }
 },
 "nbformat": 4,
 "nbformat_minor": 5
}
